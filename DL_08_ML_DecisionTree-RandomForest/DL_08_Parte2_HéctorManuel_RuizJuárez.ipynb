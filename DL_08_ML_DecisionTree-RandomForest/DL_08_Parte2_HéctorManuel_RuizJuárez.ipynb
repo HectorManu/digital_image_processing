{
 "cells": [
  {
   "cell_type": "markdown",
   "metadata": {},
   "source": [
    "<!--Información del curso-->\n",
    "<img align=\"left\" style=\"padding-right:10px;\" src=\"figuras/banner_dl.png\">"
   ]
  },
  {
   "cell_type": "markdown",
   "metadata": {},
   "source": [
    "<center><h1 style=\"font-size:2em;color:RED\">Cáncer de mama </h1></center>"
   ]
  },
  {
   "cell_type": "markdown",
   "metadata": {},
   "source": [
    "# Proyecto de Machine Learning"
   ]
  },
  {
   "cell_type": "markdown",
   "metadata": {},
   "source": [
    "\t\n",
    "En la siguiente lección se realizará un proyecto de ejemplo de principio a fin, pretendiendo ser un científico de datos recientemente contratado en una empresa de bienes raíces. Estos son los pasos principales que deberá seguir:\n",
    "\n",
    "1. Mira el panorama general y entienda el problema.\n",
    "* Obtenga los datos.\n",
    "* Descubra y visualice los datos para obtener información.\n",
    "* Prepare los datos para los algoritmos de Machine Learning.\n",
    "* Seleccione un modelo y realice el entrenamiento (train).\n",
    "* Afina(fine tune) el modelo.\n",
    "* Presente su solución.\n",
    "* Inicie (Launch), monitoree y mantenga su sistema\n",
    "\n",
    "[Documento extendido](https://bit.ly/2Sqtfhl)\n"
   ]
  },
  {
   "cell_type": "markdown",
   "metadata": {},
   "source": [
    "## 1. Mira el panorama general y entienda el problema."
   ]
  },
  {
   "cell_type": "markdown",
   "metadata": {},
   "source": [
    "<center><h1 style=\"font-size:2em;color:#2467C0\">Caso de estudio:  cáncer de mama </h1></center>\n",
    "<br>\n",
    "<table>\n",
    "<col width=\"550\">\n",
    "<col width=\"450\">\n",
    "<tr>\n",
    "    \n",
    "    \n",
    "<td><img src=\"figuras/OIP.jpg\" align=\"middle\" style=\"width:350px;\"/></td>\n",
    "<td>\n",
    "    \n",
    "El cáncer de mama es una enfermedad en la cual las células de la mama se multiplican sin control. Existen distintos tipos de cáncer de mama. El tipo de cáncer de mama depende de qué células de la mama se vuelven cancerosas.\n",
    "    \n",
    "*De cada diez mujeres que se encuentran en la autoexploración o en la exploración clínica una tumoración ocho son benignas, solo el médico especializado apoyado con estudios específicos puede diagnosticarlo.\n",
    "\n",
    "https://www.gob.mx/salud/acciones-y-programas/cancer-de-mama-informacion-general\n",
    "    \n",
    "<br>\n",
    "</td>\n",
    "</tr>\n",
    "</table>"
   ]
  },
  {
   "cell_type": "markdown",
   "metadata": {},
   "source": [
    "**Problema**\n",
    "\n",
    "A través del análisis de los datos se identificará si el cancer es benigno o maligno con la finalidad de ayudar al profesional de la salud.\n",
    "\n"
   ]
  },
  {
   "cell_type": "markdown",
   "metadata": {},
   "source": [
    "## 2.  Obtenga los datos"
   ]
  },
  {
   "cell_type": "markdown",
   "metadata": {},
   "source": [
    "Este conjunto de datos contiene casos de un estudio realizado en los Hospitales de la Universidad de Wisconsin, Madison, sobre pacientes que se habían sometido a cirugía por cáncer de mama. La tarea es determinar si el tumor detectado es benigno (0) o maligno (1).\n",
    "\n",
    "\n",
    "El conjunto de datos cuenta con 10 atributos y 699\n",
    "registros así:\n",
    "\n",
    "* @relation id\n",
    "* @attribute ClumpThickness integer [1, 10]\n",
    "* @attribute CellSize integer [1, 10]\n",
    "* @attribute CellShape integer [1, 10]\n",
    "* @attribute MarginalAdhesion integer [1, 10]\n",
    "* @attribute EpithelialSize integer [1, 10]\n",
    "* @attribute BareNuclei integer [1, 10]\n",
    "* @attribute BlandChromatin integer [1, 10]\n",
    "* @attribute NormalNucleoli integer [1, 10]\n",
    "* @attribute Mitoses integer [1, 10]\n",
    "* @attribute Class {2,4}\n",
    "\n",
    "\n",
    "Datos: **datos/heart_disease.csv**"
   ]
  },
  {
   "cell_type": "code",
   "execution_count": 3,
   "metadata": {},
   "outputs": [],
   "source": [
    "# Módulos importantes\n",
    "import matplotlib.pyplot as plt\n",
    "import pandas as pd\n",
    "import numpy as np"
   ]
  },
  {
   "cell_type": "code",
   "execution_count": 4,
   "metadata": {},
   "outputs": [],
   "source": [
    "# Cargamos el archivo 'datos/heart_disease.csv' en un dataframe\n",
    "df = pd.read_csv('datos/wisconsin_data.csv')"
   ]
  },
  {
   "cell_type": "markdown",
   "metadata": {},
   "source": [
    "## 3. Descubra y visualice los datos para obtener información."
   ]
  },
  {
   "cell_type": "code",
   "execution_count": 5,
   "metadata": {},
   "outputs": [
    {
     "data": {
      "text/html": [
       "<div>\n",
       "<style scoped>\n",
       "    .dataframe tbody tr th:only-of-type {\n",
       "        vertical-align: middle;\n",
       "    }\n",
       "\n",
       "    .dataframe tbody tr th {\n",
       "        vertical-align: top;\n",
       "    }\n",
       "\n",
       "    .dataframe thead th {\n",
       "        text-align: right;\n",
       "    }\n",
       "</style>\n",
       "<table border=\"1\" class=\"dataframe\">\n",
       "  <thead>\n",
       "    <tr style=\"text-align: right;\">\n",
       "      <th></th>\n",
       "      <th>patientId</th>\n",
       "      <th>clumpThickness</th>\n",
       "      <th>cellSize</th>\n",
       "      <th>CellShape</th>\n",
       "      <th>marginalAdhesion</th>\n",
       "      <th>epithelialSize</th>\n",
       "      <th>bareNuclei</th>\n",
       "      <th>blandChromatin</th>\n",
       "      <th>normalNucleoli</th>\n",
       "      <th>mitoses</th>\n",
       "      <th>label</th>\n",
       "    </tr>\n",
       "  </thead>\n",
       "  <tbody>\n",
       "    <tr>\n",
       "      <th>0</th>\n",
       "      <td>1</td>\n",
       "      <td>5</td>\n",
       "      <td>1</td>\n",
       "      <td>1</td>\n",
       "      <td>1</td>\n",
       "      <td>2</td>\n",
       "      <td>1.0</td>\n",
       "      <td>3</td>\n",
       "      <td>1</td>\n",
       "      <td>1</td>\n",
       "      <td>0</td>\n",
       "    </tr>\n",
       "    <tr>\n",
       "      <th>1</th>\n",
       "      <td>2</td>\n",
       "      <td>5</td>\n",
       "      <td>4</td>\n",
       "      <td>4</td>\n",
       "      <td>5</td>\n",
       "      <td>7</td>\n",
       "      <td>10.0</td>\n",
       "      <td>3</td>\n",
       "      <td>2</td>\n",
       "      <td>1</td>\n",
       "      <td>0</td>\n",
       "    </tr>\n",
       "    <tr>\n",
       "      <th>2</th>\n",
       "      <td>3</td>\n",
       "      <td>3</td>\n",
       "      <td>1</td>\n",
       "      <td>1</td>\n",
       "      <td>1</td>\n",
       "      <td>2</td>\n",
       "      <td>2.0</td>\n",
       "      <td>3</td>\n",
       "      <td>1</td>\n",
       "      <td>1</td>\n",
       "      <td>0</td>\n",
       "    </tr>\n",
       "    <tr>\n",
       "      <th>3</th>\n",
       "      <td>4</td>\n",
       "      <td>6</td>\n",
       "      <td>8</td>\n",
       "      <td>8</td>\n",
       "      <td>1</td>\n",
       "      <td>3</td>\n",
       "      <td>4.0</td>\n",
       "      <td>3</td>\n",
       "      <td>7</td>\n",
       "      <td>1</td>\n",
       "      <td>0</td>\n",
       "    </tr>\n",
       "    <tr>\n",
       "      <th>4</th>\n",
       "      <td>5</td>\n",
       "      <td>4</td>\n",
       "      <td>1</td>\n",
       "      <td>1</td>\n",
       "      <td>3</td>\n",
       "      <td>2</td>\n",
       "      <td>1.0</td>\n",
       "      <td>3</td>\n",
       "      <td>1</td>\n",
       "      <td>1</td>\n",
       "      <td>0</td>\n",
       "    </tr>\n",
       "  </tbody>\n",
       "</table>\n",
       "</div>"
      ],
      "text/plain": [
       "   patientId  clumpThickness  cellSize  CellShape  marginalAdhesion  \\\n",
       "0          1               5         1          1                 1   \n",
       "1          2               5         4          4                 5   \n",
       "2          3               3         1          1                 1   \n",
       "3          4               6         8          8                 1   \n",
       "4          5               4         1          1                 3   \n",
       "\n",
       "   epithelialSize  bareNuclei  blandChromatin  normalNucleoli  mitoses  label  \n",
       "0               2         1.0               3               1        1      0  \n",
       "1               7        10.0               3               2        1      0  \n",
       "2               2         2.0               3               1        1      0  \n",
       "3               3         4.0               3               7        1      0  \n",
       "4               2         1.0               3               1        1      0  "
      ]
     },
     "execution_count": 5,
     "metadata": {},
     "output_type": "execute_result"
    }
   ],
   "source": [
    "# Mostrar los primeras filas\n",
    "df.head()"
   ]
  },
  {
   "cell_type": "code",
   "execution_count": 6,
   "metadata": {},
   "outputs": [
    {
     "data": {
      "text/html": [
       "<div>\n",
       "<style scoped>\n",
       "    .dataframe tbody tr th:only-of-type {\n",
       "        vertical-align: middle;\n",
       "    }\n",
       "\n",
       "    .dataframe tbody tr th {\n",
       "        vertical-align: top;\n",
       "    }\n",
       "\n",
       "    .dataframe thead th {\n",
       "        text-align: right;\n",
       "    }\n",
       "</style>\n",
       "<table border=\"1\" class=\"dataframe\">\n",
       "  <thead>\n",
       "    <tr style=\"text-align: right;\">\n",
       "      <th></th>\n",
       "      <th>patientId</th>\n",
       "      <th>clumpThickness</th>\n",
       "      <th>cellSize</th>\n",
       "      <th>CellShape</th>\n",
       "      <th>marginalAdhesion</th>\n",
       "      <th>epithelialSize</th>\n",
       "      <th>bareNuclei</th>\n",
       "      <th>blandChromatin</th>\n",
       "      <th>normalNucleoli</th>\n",
       "      <th>mitoses</th>\n",
       "      <th>label</th>\n",
       "    </tr>\n",
       "  </thead>\n",
       "  <tbody>\n",
       "    <tr>\n",
       "      <th>count</th>\n",
       "      <td>699.000000</td>\n",
       "      <td>699.000000</td>\n",
       "      <td>699.000000</td>\n",
       "      <td>699.000000</td>\n",
       "      <td>699.000000</td>\n",
       "      <td>699.000000</td>\n",
       "      <td>667.000000</td>\n",
       "      <td>699.000000</td>\n",
       "      <td>699.000000</td>\n",
       "      <td>699.000000</td>\n",
       "      <td>699.000000</td>\n",
       "    </tr>\n",
       "    <tr>\n",
       "      <th>mean</th>\n",
       "      <td>350.000000</td>\n",
       "      <td>4.417740</td>\n",
       "      <td>3.134478</td>\n",
       "      <td>3.207439</td>\n",
       "      <td>2.806867</td>\n",
       "      <td>3.216023</td>\n",
       "      <td>3.536732</td>\n",
       "      <td>3.437768</td>\n",
       "      <td>2.866953</td>\n",
       "      <td>1.589413</td>\n",
       "      <td>0.344778</td>\n",
       "    </tr>\n",
       "    <tr>\n",
       "      <th>std</th>\n",
       "      <td>201.928205</td>\n",
       "      <td>2.815741</td>\n",
       "      <td>3.051459</td>\n",
       "      <td>2.971913</td>\n",
       "      <td>2.855379</td>\n",
       "      <td>2.214300</td>\n",
       "      <td>3.683795</td>\n",
       "      <td>2.438364</td>\n",
       "      <td>3.053634</td>\n",
       "      <td>1.715078</td>\n",
       "      <td>0.475636</td>\n",
       "    </tr>\n",
       "    <tr>\n",
       "      <th>min</th>\n",
       "      <td>1.000000</td>\n",
       "      <td>1.000000</td>\n",
       "      <td>1.000000</td>\n",
       "      <td>1.000000</td>\n",
       "      <td>1.000000</td>\n",
       "      <td>1.000000</td>\n",
       "      <td>1.000000</td>\n",
       "      <td>1.000000</td>\n",
       "      <td>1.000000</td>\n",
       "      <td>1.000000</td>\n",
       "      <td>0.000000</td>\n",
       "    </tr>\n",
       "    <tr>\n",
       "      <th>25%</th>\n",
       "      <td>175.500000</td>\n",
       "      <td>2.000000</td>\n",
       "      <td>1.000000</td>\n",
       "      <td>1.000000</td>\n",
       "      <td>1.000000</td>\n",
       "      <td>2.000000</td>\n",
       "      <td>1.000000</td>\n",
       "      <td>2.000000</td>\n",
       "      <td>1.000000</td>\n",
       "      <td>1.000000</td>\n",
       "      <td>0.000000</td>\n",
       "    </tr>\n",
       "    <tr>\n",
       "      <th>50%</th>\n",
       "      <td>350.000000</td>\n",
       "      <td>4.000000</td>\n",
       "      <td>1.000000</td>\n",
       "      <td>1.000000</td>\n",
       "      <td>1.000000</td>\n",
       "      <td>2.000000</td>\n",
       "      <td>1.000000</td>\n",
       "      <td>3.000000</td>\n",
       "      <td>1.000000</td>\n",
       "      <td>1.000000</td>\n",
       "      <td>0.000000</td>\n",
       "    </tr>\n",
       "    <tr>\n",
       "      <th>75%</th>\n",
       "      <td>524.500000</td>\n",
       "      <td>6.000000</td>\n",
       "      <td>5.000000</td>\n",
       "      <td>5.000000</td>\n",
       "      <td>4.000000</td>\n",
       "      <td>4.000000</td>\n",
       "      <td>7.000000</td>\n",
       "      <td>5.000000</td>\n",
       "      <td>4.000000</td>\n",
       "      <td>1.000000</td>\n",
       "      <td>1.000000</td>\n",
       "    </tr>\n",
       "    <tr>\n",
       "      <th>max</th>\n",
       "      <td>699.000000</td>\n",
       "      <td>10.000000</td>\n",
       "      <td>10.000000</td>\n",
       "      <td>10.000000</td>\n",
       "      <td>10.000000</td>\n",
       "      <td>10.000000</td>\n",
       "      <td>10.000000</td>\n",
       "      <td>10.000000</td>\n",
       "      <td>10.000000</td>\n",
       "      <td>10.000000</td>\n",
       "      <td>1.000000</td>\n",
       "    </tr>\n",
       "  </tbody>\n",
       "</table>\n",
       "</div>"
      ],
      "text/plain": [
       "        patientId  clumpThickness    cellSize   CellShape  marginalAdhesion  \\\n",
       "count  699.000000      699.000000  699.000000  699.000000        699.000000   \n",
       "mean   350.000000        4.417740    3.134478    3.207439          2.806867   \n",
       "std    201.928205        2.815741    3.051459    2.971913          2.855379   \n",
       "min      1.000000        1.000000    1.000000    1.000000          1.000000   \n",
       "25%    175.500000        2.000000    1.000000    1.000000          1.000000   \n",
       "50%    350.000000        4.000000    1.000000    1.000000          1.000000   \n",
       "75%    524.500000        6.000000    5.000000    5.000000          4.000000   \n",
       "max    699.000000       10.000000   10.000000   10.000000         10.000000   \n",
       "\n",
       "       epithelialSize  bareNuclei  blandChromatin  normalNucleoli     mitoses  \\\n",
       "count      699.000000  667.000000      699.000000      699.000000  699.000000   \n",
       "mean         3.216023    3.536732        3.437768        2.866953    1.589413   \n",
       "std          2.214300    3.683795        2.438364        3.053634    1.715078   \n",
       "min          1.000000    1.000000        1.000000        1.000000    1.000000   \n",
       "25%          2.000000    1.000000        2.000000        1.000000    1.000000   \n",
       "50%          2.000000    1.000000        3.000000        1.000000    1.000000   \n",
       "75%          4.000000    7.000000        5.000000        4.000000    1.000000   \n",
       "max         10.000000   10.000000       10.000000       10.000000   10.000000   \n",
       "\n",
       "            label  \n",
       "count  699.000000  \n",
       "mean     0.344778  \n",
       "std      0.475636  \n",
       "min      0.000000  \n",
       "25%      0.000000  \n",
       "50%      0.000000  \n",
       "75%      1.000000  \n",
       "max      1.000000  "
      ]
     },
     "execution_count": 6,
     "metadata": {},
     "output_type": "execute_result"
    }
   ],
   "source": [
    "# Encontrar los principales valores estadísticos \n",
    "df.describe()"
   ]
  },
  {
   "cell_type": "code",
   "execution_count": 7,
   "metadata": {},
   "outputs": [
    {
     "name": "stdout",
     "output_type": "stream",
     "text": [
      "['patientId' 'clumpThickness' 'cellSize' 'CellShape' 'marginalAdhesion'\n",
      " 'epithelialSize' 'bareNuclei' 'blandChromatin' 'normalNucleoli' 'mitoses'\n",
      " 'label']\n"
     ]
    }
   ],
   "source": [
    "# Mostrar las columnas\n",
    "print(df.columns.values)"
   ]
  },
  {
   "cell_type": "code",
   "execution_count": 8,
   "metadata": {},
   "outputs": [
    {
     "data": {
      "text/plain": [
       "(699, 11)"
      ]
     },
     "execution_count": 8,
     "metadata": {},
     "output_type": "execute_result"
    }
   ],
   "source": [
    "# Mostrar el número de filas y columnas\n",
    "df.shape"
   ]
  },
  {
   "cell_type": "code",
   "execution_count": 9,
   "metadata": {},
   "outputs": [],
   "source": [
    "#Quitar la columna patiendId\n",
    "df = df.drop('patientId', axis=1)"
   ]
  },
  {
   "cell_type": "code",
   "execution_count": 10,
   "metadata": {},
   "outputs": [
    {
     "data": {
      "text/plain": [
       "array([[False, False, False, ..., False, False, False],\n",
       "       [False, False, False, ..., False, False, False],\n",
       "       [False, False, False, ..., False, False, False],\n",
       "       ...,\n",
       "       [False, False, False, ..., False, False, False],\n",
       "       [False, False, False, ..., False, False, False],\n",
       "       [False, False, False, ..., False, False, False]])"
      ]
     },
     "execution_count": 10,
     "metadata": {},
     "output_type": "execute_result"
    }
   ],
   "source": [
    "#De manera general checar si hay elementos 'NaN'\n",
    "df.isnull().values"
   ]
  },
  {
   "cell_type": "code",
   "execution_count": 11,
   "metadata": {},
   "outputs": [],
   "source": [
    "#Quitar filas con elementos faltantes (\n",
    "df = df.dropna(axis=0)"
   ]
  },
  {
   "cell_type": "code",
   "execution_count": 12,
   "metadata": {},
   "outputs": [
    {
     "data": {
      "text/plain": [
       "(667, 10)"
      ]
     },
     "execution_count": 12,
     "metadata": {},
     "output_type": "execute_result"
    }
   ],
   "source": [
    "# Mostrar el número de filas y columnas sin NaN\n",
    "df.shape"
   ]
  },
  {
   "cell_type": "code",
   "execution_count": 13,
   "metadata": {},
   "outputs": [
    {
     "data": {
      "text/plain": [
       "clumpThickness        int64\n",
       "cellSize              int64\n",
       "CellShape             int64\n",
       "marginalAdhesion      int64\n",
       "epithelialSize        int64\n",
       "bareNuclei          float64\n",
       "blandChromatin        int64\n",
       "normalNucleoli        int64\n",
       "mitoses               int64\n",
       "label                 int64\n",
       "dtype: object"
      ]
     },
     "execution_count": 13,
     "metadata": {},
     "output_type": "execute_result"
    }
   ],
   "source": [
    "# Mostrar el tipo de variables\n",
    "df.dtypes"
   ]
  },
  {
   "cell_type": "code",
   "execution_count": 14,
   "metadata": {},
   "outputs": [
    {
     "data": {
      "text/plain": [
       "<Axes: >"
      ]
     },
     "execution_count": 14,
     "metadata": {},
     "output_type": "execute_result"
    },
    {
     "data": {
      "image/png": "[encoded data removed]",
      "text/plain": [
       "<Figure size 640x480 with 1 Axes>"
      ]
     },
     "metadata": {},
     "output_type": "display_data"
    }
   ],
   "source": [
    "# Hacer un histograma de cellSize\n",
    "df['cellSize'].hist()"
   ]
  },
  {
   "cell_type": "code",
   "execution_count": 15,
   "metadata": {},
   "outputs": [
    {
     "data": {
      "text/plain": [
       "array([[<Axes: title={'center': 'clumpThickness'}>,\n",
       "        <Axes: title={'center': 'cellSize'}>,\n",
       "        <Axes: title={'center': 'CellShape'}>],\n",
       "       [<Axes: title={'center': 'marginalAdhesion'}>,\n",
       "        <Axes: title={'center': 'epithelialSize'}>,\n",
       "        <Axes: title={'center': 'bareNuclei'}>],\n",
       "       [<Axes: title={'center': 'blandChromatin'}>,\n",
       "        <Axes: title={'center': 'normalNucleoli'}>,\n",
       "        <Axes: title={'center': 'mitoses'}>],\n",
       "       [<Axes: title={'center': 'label'}>, <Axes: >, <Axes: >]],\n",
       "      dtype=object)"
      ]
     },
     "execution_count": 15,
     "metadata": {},
     "output_type": "execute_result"
    },
    {
     "data": {
      "image/png": "[encoded data removed]",
      "text/plain": [
       "<Figure size 2000x1500 with 12 Axes>"
      ]
     },
     "metadata": {},
     "output_type": "display_data"
    }
   ],
   "source": [
    "# Hacer un histograma de todas las variables numericas\n",
    "df.hist(figsize=(20,15))"
   ]
  },
  {
   "cell_type": "markdown",
   "metadata": {},
   "source": [
    "## 4.  Prepare los datos para los algoritmos de Machine Learning."
   ]
  },
  {
   "cell_type": "markdown",
   "metadata": {},
   "source": [
    "<img  align=\"middle\" style=\"width:550px;\" src=\"figuras/ml_diagrama3.jpg\">\n",
    "\n",
    "División general de los datos\n",
    "* **X**: Datos sin el diagnostico es decir sin la columna \"label\"\n",
    "* **y**: Datos con el diagnostico es decir con la columna \"label\"\n",
    "\n",
    "Muestras de entrenamiento y prueba\n",
    "* **X_train**: este será el grupo de entrenamiento\n",
    "* **X_test**: este será el  grupo de prueba\n",
    "* **y_train**: este será el target para el grupo de entrenamiento\n",
    "* **y_test**: este será el target para el grupo de prueba\n"
   ]
  },
  {
   "cell_type": "code",
   "execution_count": 16,
   "metadata": {},
   "outputs": [],
   "source": [
    "# Crear X (Quitar la columna o campo de \"label\")\n"
   ]
  },
  {
   "cell_type": "code",
   "execution_count": 17,
   "metadata": {},
   "outputs": [],
   "source": [
    "# Crear y (Valor de de la columna \"label\")\n"
   ]
  },
  {
   "cell_type": "code",
   "execution_count": 18,
   "metadata": {},
   "outputs": [],
   "source": [
    "# Dividir los datos para entrenamiento y prueba\n",
    "from sklearn.model_selection import train_test_split\n",
    "\n"
   ]
  },
  {
   "cell_type": "code",
   "execution_count": 19,
   "metadata": {},
   "outputs": [],
   "source": [
    "# Revise  el tamaño de cada muestra\n"
   ]
  },
  {
   "cell_type": "markdown",
   "metadata": {},
   "source": [
    "## 5 .  Seleccione un modelo y realice el entrenamiento (train).\n"
   ]
  },
  {
   "cell_type": "markdown",
   "metadata": {},
   "source": [
    "<img  align=\"middle\" style=\"width:750px;\" src=\"figuras/imagesTree.jpg\">\n",
    "\n"
   ]
  },
  {
   "cell_type": "markdown",
   "metadata": {},
   "source": [
    "###  Árbol de decisión"
   ]
  },
  {
   "cell_type": "code",
   "execution_count": 20,
   "metadata": {},
   "outputs": [],
   "source": [
    "## Módulos del Modelo: Arboles de decision \n",
    "from sklearn.tree import DecisionTreeClassifier, export_graphviz\n",
    "from sklearn.preprocessing import LabelEncoder\n",
    "from sklearn.metrics import accuracy_score\n",
    "from sklearn.model_selection import train_test_split"
   ]
  },
  {
   "cell_type": "code",
   "execution_count": 21,
   "metadata": {},
   "outputs": [
    {
     "data": {
      "text/html": [
       "<div>\n",
       "<style scoped>\n",
       "    .dataframe tbody tr th:only-of-type {\n",
       "        vertical-align: middle;\n",
       "    }\n",
       "\n",
       "    .dataframe tbody tr th {\n",
       "        vertical-align: top;\n",
       "    }\n",
       "\n",
       "    .dataframe thead th {\n",
       "        text-align: right;\n",
       "    }\n",
       "</style>\n",
       "<table border=\"1\" class=\"dataframe\">\n",
       "  <thead>\n",
       "    <tr style=\"text-align: right;\">\n",
       "      <th></th>\n",
       "      <th>clumpThickness</th>\n",
       "      <th>cellSize</th>\n",
       "      <th>CellShape</th>\n",
       "      <th>marginalAdhesion</th>\n",
       "      <th>epithelialSize</th>\n",
       "      <th>bareNuclei</th>\n",
       "      <th>blandChromatin</th>\n",
       "      <th>normalNucleoli</th>\n",
       "      <th>mitoses</th>\n",
       "    </tr>\n",
       "  </thead>\n",
       "  <tbody>\n",
       "    <tr>\n",
       "      <th>0</th>\n",
       "      <td>5</td>\n",
       "      <td>1</td>\n",
       "      <td>1</td>\n",
       "      <td>1</td>\n",
       "      <td>2</td>\n",
       "      <td>1.0</td>\n",
       "      <td>3</td>\n",
       "      <td>1</td>\n",
       "      <td>1</td>\n",
       "    </tr>\n",
       "    <tr>\n",
       "      <th>1</th>\n",
       "      <td>5</td>\n",
       "      <td>4</td>\n",
       "      <td>4</td>\n",
       "      <td>5</td>\n",
       "      <td>7</td>\n",
       "      <td>10.0</td>\n",
       "      <td>3</td>\n",
       "      <td>2</td>\n",
       "      <td>1</td>\n",
       "    </tr>\n",
       "  </tbody>\n",
       "</table>\n",
       "</div>"
      ],
      "text/plain": [
       "   clumpThickness  cellSize  CellShape  marginalAdhesion  epithelialSize  \\\n",
       "0               5         1          1                 1               2   \n",
       "1               5         4          4                 5               7   \n",
       "\n",
       "   bareNuclei  blandChromatin  normalNucleoli  mitoses  \n",
       "0         1.0               3               1        1  \n",
       "1        10.0               3               2        1  "
      ]
     },
     "execution_count": 21,
     "metadata": {},
     "output_type": "execute_result"
    }
   ],
   "source": [
    "# modelo DecisionTreeClassifier\n",
    "X = df.drop(columns='label')\n",
    "X.head(2)"
   ]
  },
  {
   "cell_type": "code",
   "execution_count": 22,
   "metadata": {},
   "outputs": [],
   "source": [
    "# Ajuste del modelo\n",
    "y = df['label']"
   ]
  },
  {
   "cell_type": "code",
   "execution_count": 23,
   "metadata": {},
   "outputs": [],
   "source": [
    "# Dividir los datos para entrenamiento y pureba\n",
    "X_train, X_test, y_train, y_test = train_test_split(X, y)"
   ]
  },
  {
   "cell_type": "code",
   "execution_count": 24,
   "metadata": {},
   "outputs": [
    {
     "name": "stdout",
     "output_type": "stream",
     "text": [
      "(500, 9)\n",
      "(167, 9)\n",
      "(500,)\n",
      "(167,)\n"
     ]
    }
   ],
   "source": [
    "# Imprime \n",
    "\n",
    "print(X_train.shape)\n",
    "print(X_test.shape)\n",
    "print(y_train.shape)\n",
    "print(y_test.shape)"
   ]
  },
  {
   "cell_type": "code",
   "execution_count": 25,
   "metadata": {},
   "outputs": [],
   "source": [
    "# Predicción"
   ]
  },
  {
   "cell_type": "code",
   "execution_count": 26,
   "metadata": {},
   "outputs": [],
   "source": [
    "# Prueba en y_test\n"
   ]
  },
  {
   "cell_type": "code",
   "execution_count": 27,
   "metadata": {},
   "outputs": [],
   "source": [
    "# Comparación\n"
   ]
  },
  {
   "cell_type": "code",
   "execution_count": 28,
   "metadata": {},
   "outputs": [],
   "source": [
    "# Score\n"
   ]
  },
  {
   "cell_type": "markdown",
   "metadata": {},
   "source": [
    "##   Afina(fine tune) el modelo.\n"
   ]
  },
  {
   "cell_type": "code",
   "execution_count": 29,
   "metadata": {},
   "outputs": [],
   "source": [
    "# Ajuste de los parametros max_depth y min_samples_leaf\n"
   ]
  },
  {
   "cell_type": "markdown",
   "metadata": {},
   "source": [
    "### RandomForestClassifier"
   ]
  },
  {
   "cell_type": "markdown",
   "metadata": {},
   "source": [
    "## Seleccione un modelo y realice el entrenamiento (train).\n"
   ]
  },
  {
   "cell_type": "code",
   "execution_count": 30,
   "metadata": {},
   "outputs": [],
   "source": [
    "# Módulo RandomForestClassifier\n",
    "from sklearn.ensemble import RandomForestClassifier\n",
    "from sklearn.tree import DecisionTreeClassifier, export_graphviz\n",
    "from sklearn.preprocessing import LabelEncoder\n",
    "from sklearn.metrics import accuracy_score\n"
   ]
  },
  {
   "cell_type": "code",
   "execution_count": 44,
   "metadata": {},
   "outputs": [],
   "source": [
    "# Modelo\n",
    "model_DT = DecisionTreeClassifier(max_depth=5, min_samples_leaf=5, random_state=1, min_samples_split=5, max_features=5)"
   ]
  },
  {
   "cell_type": "code",
   "execution_count": 45,
   "metadata": {},
   "outputs": [
    {
     "data": {
      "text/html": [
       "<style>#sk-container-id-3 {color: black;}#sk-container-id-3 pre{padding: 0;}#sk-container-id-3 div.sk-toggleable {background-color: white;}#sk-container-id-3 label.sk-toggleable__label {cursor: pointer;display: block;width: 100%;margin-bottom: 0;padding: 0.3em;box-sizing: border-box;text-align: center;}#sk-container-id-3 label.sk-toggleable__label-arrow:before {content: \"▸\";float: left;margin-right: 0.25em;color: #696969;}#sk-container-id-3 label.sk-toggleable__label-arrow:hover:before {color: black;}#sk-container-id-3 div.sk-estimator:hover label.sk-toggleable__label-arrow:before {color: black;}#sk-container-id-3 div.sk-toggleable__content {max-height: 0;max-width: 0;overflow: hidden;text-align: left;background-color: #f0f8ff;}#sk-container-id-3 div.sk-toggleable__content pre {margin: 0.2em;color: black;border-radius: 0.25em;background-color: #f0f8ff;}#sk-container-id-3 input.sk-toggleable__control:checked~div.sk-toggleable__content {max-height: 200px;max-width: 100%;overflow: auto;}#sk-container-id-3 input.sk-toggleable__control:checked~label.sk-toggleable__label-arrow:before {content: \"▾\";}#sk-container-id-3 div.sk-estimator input.sk-toggleable__control:checked~label.sk-toggleable__label {background-color: #d4ebff;}#sk-container-id-3 div.sk-label input.sk-toggleable__control:checked~label.sk-toggleable__label {background-color: #d4ebff;}#sk-container-id-3 input.sk-hidden--visually {border: 0;clip: rect(1px 1px 1px 1px);clip: rect(1px, 1px, 1px, 1px);height: 1px;margin: -1px;overflow: hidden;padding: 0;position: absolute;width: 1px;}#sk-container-id-3 div.sk-estimator {font-family: monospace;background-color: #f0f8ff;border: 1px dotted black;border-radius: 0.25em;box-sizing: border-box;margin-bottom: 0.5em;}#sk-container-id-3 div.sk-estimator:hover {background-color: #d4ebff;}#sk-container-id-3 div.sk-parallel-item::after {content: \"\";width: 100%;border-bottom: 1px solid gray;flex-grow: 1;}#sk-container-id-3 div.sk-label:hover label.sk-toggleable__label {background-color: #d4ebff;}#sk-container-id-3 div.sk-serial::before {content: \"\";position: absolute;border-left: 1px solid gray;box-sizing: border-box;top: 0;bottom: 0;left: 50%;z-index: 0;}#sk-container-id-3 div.sk-serial {display: flex;flex-direction: column;align-items: center;background-color: white;padding-right: 0.2em;padding-left: 0.2em;position: relative;}#sk-container-id-3 div.sk-item {position: relative;z-index: 1;}#sk-container-id-3 div.sk-parallel {display: flex;align-items: stretch;justify-content: center;background-color: white;position: relative;}#sk-container-id-3 div.sk-item::before, #sk-container-id-3 div.sk-parallel-item::before {content: \"\";position: absolute;border-left: 1px solid gray;box-sizing: border-box;top: 0;bottom: 0;left: 50%;z-index: -1;}#sk-container-id-3 div.sk-parallel-item {display: flex;flex-direction: column;z-index: 1;position: relative;background-color: white;}#sk-container-id-3 div.sk-parallel-item:first-child::after {align-self: flex-end;width: 50%;}#sk-container-id-3 div.sk-parallel-item:last-child::after {align-self: flex-start;width: 50%;}#sk-container-id-3 div.sk-parallel-item:only-child::after {width: 0;}#sk-container-id-3 div.sk-dashed-wrapped {border: 1px dashed gray;margin: 0 0.4em 0.5em 0.4em;box-sizing: border-box;padding-bottom: 0.4em;background-color: white;}#sk-container-id-3 div.sk-label label {font-family: monospace;font-weight: bold;display: inline-block;line-height: 1.2em;}#sk-container-id-3 div.sk-label-container {text-align: center;}#sk-container-id-3 div.sk-container {/* jupyter's `normalize.less` sets `[hidden] { display: none; }` but bootstrap.min.css set `[hidden] { display: none !important; }` so we also need the `!important` here to be able to override the default hidden behavior on the sphinx rendered scikit-learn.org. See: https://github.com/scikit-learn/scikit-learn/issues/21755 */display: inline-block !important;position: relative;}#sk-container-id-3 div.sk-text-repr-fallback {display: none;}</style><div id=\"sk-container-id-3\" class=\"sk-top-container\"><div class=\"sk-text-repr-fallback\"><pre>DecisionTreeClassifier(max_depth=5, max_features=5, min_samples_leaf=5,\n",
       "                       min_samples_split=5, random_state=1)</pre><b>In a Jupyter environment, please rerun this cell to show the HTML representation or trust the notebook. <br />On GitHub, the HTML representation is unable to render, please try loading this page with nbviewer.org.</b></div><div class=\"sk-container\" hidden><div class=\"sk-item\"><div class=\"sk-estimator sk-toggleable\"><input class=\"sk-toggleable__control sk-hidden--visually\" id=\"sk-estimator-id-3\" type=\"checkbox\" checked><label for=\"sk-estimator-id-3\" class=\"sk-toggleable__label sk-toggleable__label-arrow\">DecisionTreeClassifier</label><div class=\"sk-toggleable__content\"><pre>DecisionTreeClassifier(max_depth=5, max_features=5, min_samples_leaf=5,\n",
       "                       min_samples_split=5, random_state=1)</pre></div></div></div></div></div>"
      ],
      "text/plain": [
       "DecisionTreeClassifier(max_depth=5, max_features=5, min_samples_leaf=5,\n",
       "                       min_samples_split=5, random_state=1)"
      ]
     },
     "execution_count": 45,
     "metadata": {},
     "output_type": "execute_result"
    }
   ],
   "source": [
    "# Ajuste del modelado\n",
    "model_DT.fit(X_train, y_train)"
   ]
  },
  {
   "cell_type": "code",
   "execution_count": 46,
   "metadata": {},
   "outputs": [
    {
     "name": "stdout",
     "output_type": "stream",
     "text": [
      "[0 0 0 0 0 0 0 0 0 1 0 0 1 0 1 0 0 1 0 0 1 0 0 0 1 1 0 1 0 0 0 1 0 0 1 0 1\n",
      " 1 1 1 1 1 0 1 0 1 0 0 0 0 1 0 0 1 1 1 0 0 1 1 0 1 0 0 0 0 1 1 0 0 0 1 0 0\n",
      " 0 1 0 1 0 0 0 0 0 0 0 1 1 1 0 0 0 1 0 0 0 0 0 0 0 1 0 0 0 0 0 0 1 1 0 0 0\n",
      " 0 0 0 0 0 0 0 0 1 1 1 1 0 1 0 0 0 1 0 1 0 1 0 1 0 0 1 0 0 1 0 0 0 0 1 0 0\n",
      " 0 0 0 0 0 0 1 0 1 1 0 0 0 1 0 1 1 0 0]\n"
     ]
    }
   ],
   "source": [
    "# Predicción\n",
    "y_pred = model_DT.predict(X_test)\n",
    "print(y_pred)"
   ]
  },
  {
   "cell_type": "code",
   "execution_count": 47,
   "metadata": {},
   "outputs": [
    {
     "name": "stdout",
     "output_type": "stream",
     "text": [
      "[0 0 0 0 0 0 0 0 0 1 0 0 1 0 1 0 0 1 0 0 1 0 0 0 1 1 0 1 0 0 0 1 0 0 1 0 1\n",
      " 1 1 1 1 1 0 1 0 1 0 0 0 0 1 0 0 1 1 0 0 1 1 1 0 0 0 0 0 0 1 1 0 0 0 1 0 0\n",
      " 0 0 0 0 0 0 0 0 0 0 0 1 1 1 0 0 0 1 0 0 0 0 0 0 0 1 0 0 0 0 0 0 1 1 0 0 0\n",
      " 0 1 0 0 0 0 0 0 1 1 1 1 0 1 0 0 1 1 0 1 0 1 0 1 0 1 1 0 0 1 0 0 0 0 1 0 0\n",
      " 0 0 0 0 0 0 1 0 1 1 0 0 0 1 0 1 1 0 0]\n"
     ]
    }
   ],
   "source": [
    "# Comparación\n",
    "print(y_test.values)"
   ]
  },
  {
   "cell_type": "code",
   "execution_count": 48,
   "metadata": {},
   "outputs": [
    {
     "name": "stdout",
     "output_type": "stream",
     "text": [
      "[ True  True  True  True  True  True  True  True  True  True  True  True\n",
      "  True  True  True  True  True  True  True  True  True  True  True  True\n",
      "  True  True  True  True  True  True  True  True  True  True  True  True\n",
      "  True  True  True  True  True  True  True  True  True  True  True  True\n",
      "  True  True  True  True  True  True  True False  True False  True  True\n",
      "  True False  True  True  True  True  True  True  True  True  True  True\n",
      "  True  True  True False  True False  True  True  True  True  True  True\n",
      "  True  True  True  True  True  True  True  True  True  True  True  True\n",
      "  True  True  True  True  True  True  True  True  True  True  True  True\n",
      "  True  True  True  True False  True  True  True  True  True  True  True\n",
      "  True  True  True  True  True  True  True False  True  True  True  True\n",
      "  True  True  True  True False  True  True  True  True  True  True  True\n",
      "  True  True  True  True  True  True  True  True  True  True  True  True\n",
      "  True  True  True  True  True  True  True  True  True  True  True]\n"
     ]
    }
   ],
   "source": [
    "print(np.equal(y_pred, y_test.values))"
   ]
  },
  {
   "cell_type": "code",
   "execution_count": 49,
   "metadata": {},
   "outputs": [
    {
     "data": {
      "text/plain": [
       "0.9520958083832335"
      ]
     },
     "execution_count": 49,
     "metadata": {},
     "output_type": "execute_result"
    }
   ],
   "source": [
    "# Score\n",
    "np.equal(y_pred, y_test.values).sum() / y_test.size"
   ]
  },
  {
   "cell_type": "code",
   "execution_count": 50,
   "metadata": {},
   "outputs": [
    {
     "data": {
      "text/plain": [
       "0.9520958083832335"
      ]
     },
     "execution_count": 50,
     "metadata": {},
     "output_type": "execute_result"
    }
   ],
   "source": [
    "model_DT.score(X_test, y_test)"
   ]
  },
  {
   "cell_type": "markdown",
   "metadata": {},
   "source": [
    "##  Afina(fine tune) el modelo.\n"
   ]
  },
  {
   "cell_type": "code",
   "execution_count": 61,
   "metadata": {},
   "outputs": [
    {
     "name": "stdout",
     "output_type": "stream",
     "text": [
      "0.9161676646706587 md= 1 msl= 1 mss= 2 mf= 2\n",
      "0.9161676646706587 md= 1 msl= 1 mss= 2 mf= 4\n",
      "0.9161676646706587 md= 1 msl= 1 mss= 2 mf= 6\n",
      "0.9161676646706587 md= 1 msl= 1 mss= 2 mf= 8\n",
      "0.9161676646706587 md= 1 msl= 1 mss= 4 mf= 2\n",
      "0.9161676646706587 md= 1 msl= 1 mss= 4 mf= 4\n",
      "0.9161676646706587 md= 1 msl= 1 mss= 4 mf= 6\n",
      "0.9161676646706587 md= 1 msl= 1 mss= 4 mf= 8\n",
      "0.9161676646706587 md= 1 msl= 1 mss= 6 mf= 2\n",
      "0.9161676646706587 md= 1 msl= 1 mss= 6 mf= 4\n",
      "0.9161676646706587 md= 1 msl= 1 mss= 6 mf= 6\n",
      "0.9161676646706587 md= 1 msl= 1 mss= 6 mf= 8\n",
      "0.9161676646706587 md= 1 msl= 1 mss= 8 mf= 2\n",
      "0.9161676646706587 md= 1 msl= 1 mss= 8 mf= 4\n",
      "0.9161676646706587 md= 1 msl= 1 mss= 8 mf= 6\n",
      "0.9161676646706587 md= 1 msl= 1 mss= 8 mf= 8\n",
      "0.9161676646706587 md= 1 msl= 3 mss= 2 mf= 2\n",
      "0.9161676646706587 md= 1 msl= 3 mss= 2 mf= 4\n",
      "0.9161676646706587 md= 1 msl= 3 mss= 2 mf= 6\n",
      "0.9161676646706587 md= 1 msl= 3 mss= 2 mf= 8\n",
      "0.9161676646706587 md= 1 msl= 3 mss= 4 mf= 2\n",
      "0.9161676646706587 md= 1 msl= 3 mss= 4 mf= 4\n",
      "0.9161676646706587 md= 1 msl= 3 mss= 4 mf= 6\n",
      "0.9161676646706587 md= 1 msl= 3 mss= 4 mf= 8\n",
      "0.9161676646706587 md= 1 msl= 3 mss= 6 mf= 2\n",
      "0.9161676646706587 md= 1 msl= 3 mss= 6 mf= 4\n",
      "0.9161676646706587 md= 1 msl= 3 mss= 6 mf= 6\n",
      "0.9161676646706587 md= 1 msl= 3 mss= 6 mf= 8\n",
      "0.9161676646706587 md= 1 msl= 3 mss= 8 mf= 2\n",
      "0.9161676646706587 md= 1 msl= 3 mss= 8 mf= 4\n",
      "0.9161676646706587 md= 1 msl= 3 mss= 8 mf= 6\n",
      "0.9161676646706587 md= 1 msl= 3 mss= 8 mf= 8\n",
      "0.9161676646706587 md= 1 msl= 5 mss= 2 mf= 2\n",
      "0.9161676646706587 md= 1 msl= 5 mss= 2 mf= 4\n",
      "0.9161676646706587 md= 1 msl= 5 mss= 2 mf= 6\n",
      "0.9161676646706587 md= 1 msl= 5 mss= 2 mf= 8\n",
      "0.9161676646706587 md= 1 msl= 5 mss= 4 mf= 2\n",
      "0.9161676646706587 md= 1 msl= 5 mss= 4 mf= 4\n",
      "0.9161676646706587 md= 1 msl= 5 mss= 4 mf= 6\n",
      "0.9161676646706587 md= 1 msl= 5 mss= 4 mf= 8\n",
      "0.9161676646706587 md= 1 msl= 5 mss= 6 mf= 2\n",
      "0.9161676646706587 md= 1 msl= 5 mss= 6 mf= 4\n",
      "0.9161676646706587 md= 1 msl= 5 mss= 6 mf= 6\n",
      "0.9161676646706587 md= 1 msl= 5 mss= 6 mf= 8\n",
      "0.9161676646706587 md= 1 msl= 5 mss= 8 mf= 2\n",
      "0.9161676646706587 md= 1 msl= 5 mss= 8 mf= 4\n",
      "0.9161676646706587 md= 1 msl= 5 mss= 8 mf= 6\n",
      "0.9161676646706587 md= 1 msl= 5 mss= 8 mf= 8\n",
      "0.9161676646706587 md= 1 msl= 7 mss= 2 mf= 2\n",
      "0.9161676646706587 md= 1 msl= 7 mss= 2 mf= 4\n",
      "0.9161676646706587 md= 1 msl= 7 mss= 2 mf= 6\n",
      "0.9161676646706587 md= 1 msl= 7 mss= 2 mf= 8\n",
      "0.9161676646706587 md= 1 msl= 7 mss= 4 mf= 2\n",
      "0.9161676646706587 md= 1 msl= 7 mss= 4 mf= 4\n",
      "0.9161676646706587 md= 1 msl= 7 mss= 4 mf= 6\n",
      "0.9161676646706587 md= 1 msl= 7 mss= 4 mf= 8\n",
      "0.9161676646706587 md= 1 msl= 7 mss= 6 mf= 2\n",
      "0.9161676646706587 md= 1 msl= 7 mss= 6 mf= 4\n",
      "0.9161676646706587 md= 1 msl= 7 mss= 6 mf= 6\n",
      "0.9161676646706587 md= 1 msl= 7 mss= 6 mf= 8\n",
      "0.9161676646706587 md= 1 msl= 7 mss= 8 mf= 2\n",
      "0.9161676646706587 md= 1 msl= 7 mss= 8 mf= 4\n",
      "0.9161676646706587 md= 1 msl= 7 mss= 8 mf= 6\n",
      "0.9161676646706587 md= 1 msl= 7 mss= 8 mf= 8\n",
      "0.9161676646706587 md= 1 msl= 9 mss= 2 mf= 2\n",
      "0.9161676646706587 md= 1 msl= 9 mss= 2 mf= 4\n",
      "0.9161676646706587 md= 1 msl= 9 mss= 2 mf= 6\n",
      "0.9161676646706587 md= 1 msl= 9 mss= 2 mf= 8\n",
      "0.9161676646706587 md= 1 msl= 9 mss= 4 mf= 2\n",
      "0.9161676646706587 md= 1 msl= 9 mss= 4 mf= 4\n",
      "0.9161676646706587 md= 1 msl= 9 mss= 4 mf= 6\n",
      "0.9161676646706587 md= 1 msl= 9 mss= 4 mf= 8\n",
      "0.9161676646706587 md= 1 msl= 9 mss= 6 mf= 2\n",
      "0.9161676646706587 md= 1 msl= 9 mss= 6 mf= 4\n",
      "0.9161676646706587 md= 1 msl= 9 mss= 6 mf= 6\n",
      "0.9161676646706587 md= 1 msl= 9 mss= 6 mf= 8\n",
      "0.9161676646706587 md= 1 msl= 9 mss= 8 mf= 2\n",
      "0.9161676646706587 md= 1 msl= 9 mss= 8 mf= 4\n",
      "0.9161676646706587 md= 1 msl= 9 mss= 8 mf= 6\n",
      "0.9161676646706587 md= 1 msl= 9 mss= 8 mf= 8\n",
      "0.9580838323353293 md= 3 msl= 1 mss= 2 mf= 2\n",
      "0.9401197604790419 md= 3 msl= 1 mss= 2 mf= 4\n",
      "0.9101796407185628 md= 3 msl= 1 mss= 2 mf= 6\n",
      "0.9341317365269461 md= 3 msl= 1 mss= 2 mf= 8\n",
      "0.9580838323353293 md= 3 msl= 1 mss= 4 mf= 2\n",
      "0.9520958083832335 md= 3 msl= 1 mss= 4 mf= 4\n",
      "0.9101796407185628 md= 3 msl= 1 mss= 4 mf= 6\n",
      "0.9341317365269461 md= 3 msl= 1 mss= 4 mf= 8\n",
      "0.9580838323353293 md= 3 msl= 1 mss= 6 mf= 2\n",
      "0.9520958083832335 md= 3 msl= 1 mss= 6 mf= 4\n",
      "0.9401197604790419 md= 3 msl= 1 mss= 6 mf= 6\n",
      "0.9281437125748503 md= 3 msl= 1 mss= 6 mf= 8\n",
      "0.9580838323353293 md= 3 msl= 1 mss= 8 mf= 2\n",
      "0.9520958083832335 md= 3 msl= 1 mss= 8 mf= 4\n",
      "0.9401197604790419 md= 3 msl= 1 mss= 8 mf= 6\n",
      "0.9281437125748503 md= 3 msl= 1 mss= 8 mf= 8\n",
      "0.9580838323353293 md= 3 msl= 3 mss= 2 mf= 2\n",
      "0.9520958083832335 md= 3 msl= 3 mss= 2 mf= 4\n",
      "0.9401197604790419 md= 3 msl= 3 mss= 2 mf= 6\n",
      "0.9281437125748503 md= 3 msl= 3 mss= 2 mf= 8\n",
      "0.9580838323353293 md= 3 msl= 3 mss= 4 mf= 2\n",
      "0.9520958083832335 md= 3 msl= 3 mss= 4 mf= 4\n",
      "0.9401197604790419 md= 3 msl= 3 mss= 4 mf= 6\n",
      "0.9281437125748503 md= 3 msl= 3 mss= 4 mf= 8\n",
      "0.9580838323353293 md= 3 msl= 3 mss= 6 mf= 2\n",
      "0.9520958083832335 md= 3 msl= 3 mss= 6 mf= 4\n",
      "0.9401197604790419 md= 3 msl= 3 mss= 6 mf= 6\n",
      "0.9281437125748503 md= 3 msl= 3 mss= 6 mf= 8\n",
      "0.9580838323353293 md= 3 msl= 3 mss= 8 mf= 2\n",
      "0.9520958083832335 md= 3 msl= 3 mss= 8 mf= 4\n",
      "0.9401197604790419 md= 3 msl= 3 mss= 8 mf= 6\n",
      "0.9281437125748503 md= 3 msl= 3 mss= 8 mf= 8\n",
      "0.9580838323353293 md= 3 msl= 5 mss= 2 mf= 2\n",
      "0.9221556886227545 md= 3 msl= 5 mss= 2 mf= 4\n",
      "0.9221556886227545 md= 3 msl= 5 mss= 2 mf= 6\n",
      "0.9281437125748503 md= 3 msl= 5 mss= 2 mf= 8\n",
      "0.9580838323353293 md= 3 msl= 5 mss= 4 mf= 2\n",
      "0.9221556886227545 md= 3 msl= 5 mss= 4 mf= 4\n",
      "0.9221556886227545 md= 3 msl= 5 mss= 4 mf= 6\n",
      "0.9281437125748503 md= 3 msl= 5 mss= 4 mf= 8\n",
      "0.9580838323353293 md= 3 msl= 5 mss= 6 mf= 2\n",
      "0.9221556886227545 md= 3 msl= 5 mss= 6 mf= 4\n",
      "0.9221556886227545 md= 3 msl= 5 mss= 6 mf= 6\n",
      "0.9281437125748503 md= 3 msl= 5 mss= 6 mf= 8\n",
      "0.9580838323353293 md= 3 msl= 5 mss= 8 mf= 2\n",
      "0.9221556886227545 md= 3 msl= 5 mss= 8 mf= 4\n",
      "0.9221556886227545 md= 3 msl= 5 mss= 8 mf= 6\n",
      "0.9281437125748503 md= 3 msl= 5 mss= 8 mf= 8\n",
      "0.9520958083832335 md= 3 msl= 7 mss= 2 mf= 2\n",
      "0.9221556886227545 md= 3 msl= 7 mss= 2 mf= 4\n",
      "0.9221556886227545 md= 3 msl= 7 mss= 2 mf= 6\n",
      "0.9341317365269461 md= 3 msl= 7 mss= 2 mf= 8\n",
      "0.9520958083832335 md= 3 msl= 7 mss= 4 mf= 2\n",
      "0.9221556886227545 md= 3 msl= 7 mss= 4 mf= 4\n",
      "0.9221556886227545 md= 3 msl= 7 mss= 4 mf= 6\n",
      "0.9341317365269461 md= 3 msl= 7 mss= 4 mf= 8\n",
      "0.9520958083832335 md= 3 msl= 7 mss= 6 mf= 2\n",
      "0.9221556886227545 md= 3 msl= 7 mss= 6 mf= 4\n",
      "0.9221556886227545 md= 3 msl= 7 mss= 6 mf= 6\n",
      "0.9341317365269461 md= 3 msl= 7 mss= 6 mf= 8\n",
      "0.9520958083832335 md= 3 msl= 7 mss= 8 mf= 2\n",
      "0.9221556886227545 md= 3 msl= 7 mss= 8 mf= 4\n",
      "0.9221556886227545 md= 3 msl= 7 mss= 8 mf= 6\n",
      "0.9341317365269461 md= 3 msl= 7 mss= 8 mf= 8\n",
      "0.9520958083832335 md= 3 msl= 9 mss= 2 mf= 2\n",
      "0.9341317365269461 md= 3 msl= 9 mss= 2 mf= 4\n",
      "0.9341317365269461 md= 3 msl= 9 mss= 2 mf= 6\n",
      "0.9341317365269461 md= 3 msl= 9 mss= 2 mf= 8\n",
      "0.9520958083832335 md= 3 msl= 9 mss= 4 mf= 2\n",
      "0.9341317365269461 md= 3 msl= 9 mss= 4 mf= 4\n",
      "0.9341317365269461 md= 3 msl= 9 mss= 4 mf= 6\n",
      "0.9341317365269461 md= 3 msl= 9 mss= 4 mf= 8\n",
      "0.9520958083832335 md= 3 msl= 9 mss= 6 mf= 2\n",
      "0.9341317365269461 md= 3 msl= 9 mss= 6 mf= 4\n",
      "0.9341317365269461 md= 3 msl= 9 mss= 6 mf= 6\n",
      "0.9341317365269461 md= 3 msl= 9 mss= 6 mf= 8\n",
      "0.9520958083832335 md= 3 msl= 9 mss= 8 mf= 2\n",
      "0.9341317365269461 md= 3 msl= 9 mss= 8 mf= 4\n",
      "0.9341317365269461 md= 3 msl= 9 mss= 8 mf= 6\n",
      "0.9341317365269461 md= 3 msl= 9 mss= 8 mf= 8\n",
      "0.9640718562874252 md= 5 msl= 1 mss= 2 mf= 2\n",
      "0.9401197604790419 md= 5 msl= 1 mss= 2 mf= 4\n",
      "0.9520958083832335 md= 5 msl= 1 mss= 2 mf= 6\n",
      "0.9461077844311377 md= 5 msl= 1 mss= 2 mf= 8\n",
      "0.9640718562874252 md= 5 msl= 1 mss= 4 mf= 2\n",
      "0.9401197604790419 md= 5 msl= 1 mss= 4 mf= 4\n",
      "0.9461077844311377 md= 5 msl= 1 mss= 4 mf= 6\n",
      "0.9341317365269461 md= 5 msl= 1 mss= 4 mf= 8\n",
      "0.9401197604790419 md= 5 msl= 1 mss= 6 mf= 2\n",
      "0.9401197604790419 md= 5 msl= 1 mss= 6 mf= 4\n",
      "0.9520958083832335 md= 5 msl= 1 mss= 6 mf= 6\n",
      "0.9520958083832335 md= 5 msl= 1 mss= 6 mf= 8\n",
      "0.9401197604790419 md= 5 msl= 1 mss= 8 mf= 2\n",
      "0.9461077844311377 md= 5 msl= 1 mss= 8 mf= 4\n",
      "0.9281437125748503 md= 5 msl= 1 mss= 8 mf= 6\n",
      "0.9401197604790419 md= 5 msl= 1 mss= 8 mf= 8\n",
      "0.9161676646706587 md= 5 msl= 3 mss= 2 mf= 2\n",
      "0.9401197604790419 md= 5 msl= 3 mss= 2 mf= 4\n",
      "0.9580838323353293 md= 5 msl= 3 mss= 2 mf= 6\n",
      "0.9341317365269461 md= 5 msl= 3 mss= 2 mf= 8\n",
      "0.9161676646706587 md= 5 msl= 3 mss= 4 mf= 2\n",
      "0.9401197604790419 md= 5 msl= 3 mss= 4 mf= 4\n",
      "0.9580838323353293 md= 5 msl= 3 mss= 4 mf= 6\n",
      "0.9341317365269461 md= 5 msl= 3 mss= 4 mf= 8\n",
      "0.9161676646706587 md= 5 msl= 3 mss= 6 mf= 2\n",
      "0.9401197604790419 md= 5 msl= 3 mss= 6 mf= 4\n",
      "0.9580838323353293 md= 5 msl= 3 mss= 6 mf= 6\n",
      "0.9341317365269461 md= 5 msl= 3 mss= 6 mf= 8\n",
      "0.9161676646706587 md= 5 msl= 3 mss= 8 mf= 2\n",
      "0.9461077844311377 md= 5 msl= 3 mss= 8 mf= 4\n",
      "0.9341317365269461 md= 5 msl= 3 mss= 8 mf= 6\n",
      "0.9520958083832335 md= 5 msl= 3 mss= 8 mf= 8\n",
      "0.9461077844311377 md= 5 msl= 5 mss= 2 mf= 2\n",
      "0.9101796407185628 md= 5 msl= 5 mss= 2 mf= 4\n",
      "0.9281437125748503 md= 5 msl= 5 mss= 2 mf= 6\n",
      "0.9401197604790419 md= 5 msl= 5 mss= 2 mf= 8\n",
      "0.9461077844311377 md= 5 msl= 5 mss= 4 mf= 2\n",
      "0.9101796407185628 md= 5 msl= 5 mss= 4 mf= 4\n",
      "0.9281437125748503 md= 5 msl= 5 mss= 4 mf= 6\n",
      "0.9401197604790419 md= 5 msl= 5 mss= 4 mf= 8\n",
      "0.9461077844311377 md= 5 msl= 5 mss= 6 mf= 2\n",
      "0.9101796407185628 md= 5 msl= 5 mss= 6 mf= 4\n",
      "0.9281437125748503 md= 5 msl= 5 mss= 6 mf= 6\n",
      "0.9401197604790419 md= 5 msl= 5 mss= 6 mf= 8\n",
      "0.9461077844311377 md= 5 msl= 5 mss= 8 mf= 2\n",
      "0.9101796407185628 md= 5 msl= 5 mss= 8 mf= 4\n",
      "0.9281437125748503 md= 5 msl= 5 mss= 8 mf= 6\n",
      "0.9401197604790419 md= 5 msl= 5 mss= 8 mf= 8\n",
      "0.9281437125748503 md= 5 msl= 7 mss= 2 mf= 2\n",
      "0.9101796407185628 md= 5 msl= 7 mss= 2 mf= 4\n",
      "0.9281437125748503 md= 5 msl= 7 mss= 2 mf= 6\n",
      "0.9341317365269461 md= 5 msl= 7 mss= 2 mf= 8\n",
      "0.9281437125748503 md= 5 msl= 7 mss= 4 mf= 2\n",
      "0.9101796407185628 md= 5 msl= 7 mss= 4 mf= 4\n",
      "0.9281437125748503 md= 5 msl= 7 mss= 4 mf= 6\n",
      "0.9341317365269461 md= 5 msl= 7 mss= 4 mf= 8\n",
      "0.9281437125748503 md= 5 msl= 7 mss= 6 mf= 2\n",
      "0.9101796407185628 md= 5 msl= 7 mss= 6 mf= 4\n",
      "0.9281437125748503 md= 5 msl= 7 mss= 6 mf= 6\n",
      "0.9341317365269461 md= 5 msl= 7 mss= 6 mf= 8\n",
      "0.9281437125748503 md= 5 msl= 7 mss= 8 mf= 2\n",
      "0.9101796407185628 md= 5 msl= 7 mss= 8 mf= 4\n",
      "0.9281437125748503 md= 5 msl= 7 mss= 8 mf= 6\n",
      "0.9341317365269461 md= 5 msl= 7 mss= 8 mf= 8\n",
      "0.9640718562874252 md= 5 msl= 9 mss= 2 mf= 2\n",
      "0.9341317365269461 md= 5 msl= 9 mss= 2 mf= 4\n",
      "0.9341317365269461 md= 5 msl= 9 mss= 2 mf= 6\n",
      "0.9341317365269461 md= 5 msl= 9 mss= 2 mf= 8\n",
      "0.9640718562874252 md= 5 msl= 9 mss= 4 mf= 2\n",
      "0.9341317365269461 md= 5 msl= 9 mss= 4 mf= 4\n",
      "0.9341317365269461 md= 5 msl= 9 mss= 4 mf= 6\n",
      "0.9341317365269461 md= 5 msl= 9 mss= 4 mf= 8\n",
      "0.9640718562874252 md= 5 msl= 9 mss= 6 mf= 2\n",
      "0.9341317365269461 md= 5 msl= 9 mss= 6 mf= 4\n",
      "0.9341317365269461 md= 5 msl= 9 mss= 6 mf= 6\n",
      "0.9341317365269461 md= 5 msl= 9 mss= 6 mf= 8\n",
      "0.9640718562874252 md= 5 msl= 9 mss= 8 mf= 2\n",
      "0.9341317365269461 md= 5 msl= 9 mss= 8 mf= 4\n",
      "0.9341317365269461 md= 5 msl= 9 mss= 8 mf= 6\n",
      "0.9341317365269461 md= 5 msl= 9 mss= 8 mf= 8\n",
      "0.9520958083832335 md= 7 msl= 1 mss= 2 mf= 2\n",
      "0.9281437125748503 md= 7 msl= 1 mss= 2 mf= 4\n",
      "0.9281437125748503 md= 7 msl= 1 mss= 2 mf= 6\n",
      "0.9461077844311377 md= 7 msl= 1 mss= 2 mf= 8\n",
      "0.9520958083832335 md= 7 msl= 1 mss= 4 mf= 2\n",
      "0.9461077844311377 md= 7 msl= 1 mss= 4 mf= 4\n",
      "0.9520958083832335 md= 7 msl= 1 mss= 4 mf= 6\n",
      "0.9341317365269461 md= 7 msl= 1 mss= 4 mf= 8\n",
      "0.9580838323353293 md= 7 msl= 1 mss= 6 mf= 2\n",
      "0.9520958083832335 md= 7 msl= 1 mss= 6 mf= 4\n",
      "0.9461077844311377 md= 7 msl= 1 mss= 6 mf= 6\n",
      "0.9520958083832335 md= 7 msl= 1 mss= 6 mf= 8\n",
      "0.9401197604790419 md= 7 msl= 1 mss= 8 mf= 2\n",
      "0.9520958083832335 md= 7 msl= 1 mss= 8 mf= 4\n",
      "0.9281437125748503 md= 7 msl= 1 mss= 8 mf= 6\n",
      "0.9401197604790419 md= 7 msl= 1 mss= 8 mf= 8\n",
      "0.9461077844311377 md= 7 msl= 3 mss= 2 mf= 2\n",
      "0.9580838323353293 md= 7 msl= 3 mss= 2 mf= 4\n",
      "0.9580838323353293 md= 7 msl= 3 mss= 2 mf= 6\n",
      "0.9341317365269461 md= 7 msl= 3 mss= 2 mf= 8\n",
      "0.9461077844311377 md= 7 msl= 3 mss= 4 mf= 2\n",
      "0.9580838323353293 md= 7 msl= 3 mss= 4 mf= 4\n",
      "0.9580838323353293 md= 7 msl= 3 mss= 4 mf= 6\n",
      "0.9341317365269461 md= 7 msl= 3 mss= 4 mf= 8\n",
      "0.9461077844311377 md= 7 msl= 3 mss= 6 mf= 2\n",
      "0.9580838323353293 md= 7 msl= 3 mss= 6 mf= 4\n",
      "0.9580838323353293 md= 7 msl= 3 mss= 6 mf= 6\n",
      "0.9341317365269461 md= 7 msl= 3 mss= 6 mf= 8\n",
      "0.9221556886227545 md= 7 msl= 3 mss= 8 mf= 2\n",
      "0.9520958083832335 md= 7 msl= 3 mss= 8 mf= 4\n",
      "0.9341317365269461 md= 7 msl= 3 mss= 8 mf= 6\n",
      "0.9520958083832335 md= 7 msl= 3 mss= 8 mf= 8\n",
      "0.9401197604790419 md= 7 msl= 5 mss= 2 mf= 2\n",
      "0.9101796407185628 md= 7 msl= 5 mss= 2 mf= 4\n",
      "0.9281437125748503 md= 7 msl= 5 mss= 2 mf= 6\n",
      "0.9401197604790419 md= 7 msl= 5 mss= 2 mf= 8\n",
      "0.9401197604790419 md= 7 msl= 5 mss= 4 mf= 2\n",
      "0.9101796407185628 md= 7 msl= 5 mss= 4 mf= 4\n",
      "0.9281437125748503 md= 7 msl= 5 mss= 4 mf= 6\n",
      "0.9401197604790419 md= 7 msl= 5 mss= 4 mf= 8\n",
      "0.9401197604790419 md= 7 msl= 5 mss= 6 mf= 2\n",
      "0.9101796407185628 md= 7 msl= 5 mss= 6 mf= 4\n",
      "0.9281437125748503 md= 7 msl= 5 mss= 6 mf= 6\n",
      "0.9401197604790419 md= 7 msl= 5 mss= 6 mf= 8\n",
      "0.9401197604790419 md= 7 msl= 5 mss= 8 mf= 2\n",
      "0.9101796407185628 md= 7 msl= 5 mss= 8 mf= 4\n",
      "0.9281437125748503 md= 7 msl= 5 mss= 8 mf= 6\n",
      "0.9401197604790419 md= 7 msl= 5 mss= 8 mf= 8\n",
      "0.9640718562874252 md= 7 msl= 7 mss= 2 mf= 2\n",
      "0.9101796407185628 md= 7 msl= 7 mss= 2 mf= 4\n",
      "0.9281437125748503 md= 7 msl= 7 mss= 2 mf= 6\n",
      "0.9341317365269461 md= 7 msl= 7 mss= 2 mf= 8\n",
      "0.9640718562874252 md= 7 msl= 7 mss= 4 mf= 2\n",
      "0.9101796407185628 md= 7 msl= 7 mss= 4 mf= 4\n",
      "0.9281437125748503 md= 7 msl= 7 mss= 4 mf= 6\n",
      "0.9341317365269461 md= 7 msl= 7 mss= 4 mf= 8\n",
      "0.9640718562874252 md= 7 msl= 7 mss= 6 mf= 2\n",
      "0.9101796407185628 md= 7 msl= 7 mss= 6 mf= 4\n",
      "0.9281437125748503 md= 7 msl= 7 mss= 6 mf= 6\n",
      "0.9341317365269461 md= 7 msl= 7 mss= 6 mf= 8\n",
      "0.9640718562874252 md= 7 msl= 7 mss= 8 mf= 2\n",
      "0.9101796407185628 md= 7 msl= 7 mss= 8 mf= 4\n",
      "0.9281437125748503 md= 7 msl= 7 mss= 8 mf= 6\n",
      "0.9341317365269461 md= 7 msl= 7 mss= 8 mf= 8\n",
      "0.9461077844311377 md= 7 msl= 9 mss= 2 mf= 2\n",
      "0.9341317365269461 md= 7 msl= 9 mss= 2 mf= 4\n",
      "0.9341317365269461 md= 7 msl= 9 mss= 2 mf= 6\n",
      "0.9341317365269461 md= 7 msl= 9 mss= 2 mf= 8\n",
      "0.9461077844311377 md= 7 msl= 9 mss= 4 mf= 2\n",
      "0.9341317365269461 md= 7 msl= 9 mss= 4 mf= 4\n",
      "0.9341317365269461 md= 7 msl= 9 mss= 4 mf= 6\n",
      "0.9341317365269461 md= 7 msl= 9 mss= 4 mf= 8\n",
      "0.9461077844311377 md= 7 msl= 9 mss= 6 mf= 2\n",
      "0.9341317365269461 md= 7 msl= 9 mss= 6 mf= 4\n",
      "0.9341317365269461 md= 7 msl= 9 mss= 6 mf= 6\n",
      "0.9341317365269461 md= 7 msl= 9 mss= 6 mf= 8\n",
      "0.9461077844311377 md= 7 msl= 9 mss= 8 mf= 2\n",
      "0.9341317365269461 md= 7 msl= 9 mss= 8 mf= 4\n",
      "0.9341317365269461 md= 7 msl= 9 mss= 8 mf= 6\n",
      "0.9341317365269461 md= 7 msl= 9 mss= 8 mf= 8\n",
      "0.9520958083832335 md= 9 msl= 1 mss= 2 mf= 2\n",
      "0.9221556886227545 md= 9 msl= 1 mss= 2 mf= 4\n",
      "0.9281437125748503 md= 9 msl= 1 mss= 2 mf= 6\n",
      "0.9520958083832335 md= 9 msl= 1 mss= 2 mf= 8\n",
      "0.9401197604790419 md= 9 msl= 1 mss= 4 mf= 2\n",
      "0.9401197604790419 md= 9 msl= 1 mss= 4 mf= 4\n",
      "0.9461077844311377 md= 9 msl= 1 mss= 4 mf= 6\n",
      "0.9341317365269461 md= 9 msl= 1 mss= 4 mf= 8\n",
      "0.9461077844311377 md= 9 msl= 1 mss= 6 mf= 2\n",
      "0.9221556886227545 md= 9 msl= 1 mss= 6 mf= 4\n",
      "0.9461077844311377 md= 9 msl= 1 mss= 6 mf= 6\n",
      "0.9580838323353293 md= 9 msl= 1 mss= 6 mf= 8\n",
      "0.9281437125748503 md= 9 msl= 1 mss= 8 mf= 2\n",
      "0.9461077844311377 md= 9 msl= 1 mss= 8 mf= 4\n",
      "0.9341317365269461 md= 9 msl= 1 mss= 8 mf= 6\n",
      "0.9401197604790419 md= 9 msl= 1 mss= 8 mf= 8\n",
      "0.9461077844311377 md= 9 msl= 3 mss= 2 mf= 2\n",
      "0.9580838323353293 md= 9 msl= 3 mss= 2 mf= 4\n",
      "0.9580838323353293 md= 9 msl= 3 mss= 2 mf= 6\n",
      "0.9341317365269461 md= 9 msl= 3 mss= 2 mf= 8\n",
      "0.9461077844311377 md= 9 msl= 3 mss= 4 mf= 2\n",
      "0.9580838323353293 md= 9 msl= 3 mss= 4 mf= 4\n",
      "0.9580838323353293 md= 9 msl= 3 mss= 4 mf= 6\n",
      "0.9341317365269461 md= 9 msl= 3 mss= 4 mf= 8\n",
      "0.9461077844311377 md= 9 msl= 3 mss= 6 mf= 2\n",
      "0.9580838323353293 md= 9 msl= 3 mss= 6 mf= 4\n",
      "0.9580838323353293 md= 9 msl= 3 mss= 6 mf= 6\n",
      "0.9341317365269461 md= 9 msl= 3 mss= 6 mf= 8\n",
      "0.9221556886227545 md= 9 msl= 3 mss= 8 mf= 2\n",
      "0.9520958083832335 md= 9 msl= 3 mss= 8 mf= 4\n",
      "0.9341317365269461 md= 9 msl= 3 mss= 8 mf= 6\n",
      "0.9520958083832335 md= 9 msl= 3 mss= 8 mf= 8\n",
      "0.9401197604790419 md= 9 msl= 5 mss= 2 mf= 2\n",
      "0.9101796407185628 md= 9 msl= 5 mss= 2 mf= 4\n",
      "0.9281437125748503 md= 9 msl= 5 mss= 2 mf= 6\n",
      "0.9401197604790419 md= 9 msl= 5 mss= 2 mf= 8\n",
      "0.9401197604790419 md= 9 msl= 5 mss= 4 mf= 2\n",
      "0.9101796407185628 md= 9 msl= 5 mss= 4 mf= 4\n",
      "0.9281437125748503 md= 9 msl= 5 mss= 4 mf= 6\n",
      "0.9401197604790419 md= 9 msl= 5 mss= 4 mf= 8\n",
      "0.9401197604790419 md= 9 msl= 5 mss= 6 mf= 2\n",
      "0.9101796407185628 md= 9 msl= 5 mss= 6 mf= 4\n",
      "0.9281437125748503 md= 9 msl= 5 mss= 6 mf= 6\n",
      "0.9401197604790419 md= 9 msl= 5 mss= 6 mf= 8\n",
      "0.9401197604790419 md= 9 msl= 5 mss= 8 mf= 2\n",
      "0.9101796407185628 md= 9 msl= 5 mss= 8 mf= 4\n",
      "0.9281437125748503 md= 9 msl= 5 mss= 8 mf= 6\n",
      "0.9401197604790419 md= 9 msl= 5 mss= 8 mf= 8\n",
      "0.9640718562874252 md= 9 msl= 7 mss= 2 mf= 2\n",
      "0.9101796407185628 md= 9 msl= 7 mss= 2 mf= 4\n",
      "0.9281437125748503 md= 9 msl= 7 mss= 2 mf= 6\n",
      "0.9341317365269461 md= 9 msl= 7 mss= 2 mf= 8\n",
      "0.9640718562874252 md= 9 msl= 7 mss= 4 mf= 2\n",
      "0.9101796407185628 md= 9 msl= 7 mss= 4 mf= 4\n",
      "0.9281437125748503 md= 9 msl= 7 mss= 4 mf= 6\n",
      "0.9341317365269461 md= 9 msl= 7 mss= 4 mf= 8\n",
      "0.9640718562874252 md= 9 msl= 7 mss= 6 mf= 2\n",
      "0.9101796407185628 md= 9 msl= 7 mss= 6 mf= 4\n",
      "0.9281437125748503 md= 9 msl= 7 mss= 6 mf= 6\n",
      "0.9341317365269461 md= 9 msl= 7 mss= 6 mf= 8\n",
      "0.9640718562874252 md= 9 msl= 7 mss= 8 mf= 2\n",
      "0.9101796407185628 md= 9 msl= 7 mss= 8 mf= 4\n",
      "0.9281437125748503 md= 9 msl= 7 mss= 8 mf= 6\n",
      "0.9341317365269461 md= 9 msl= 7 mss= 8 mf= 8\n",
      "0.9461077844311377 md= 9 msl= 9 mss= 2 mf= 2\n",
      "0.9341317365269461 md= 9 msl= 9 mss= 2 mf= 4\n",
      "0.9341317365269461 md= 9 msl= 9 mss= 2 mf= 6\n",
      "0.9341317365269461 md= 9 msl= 9 mss= 2 mf= 8\n",
      "0.9461077844311377 md= 9 msl= 9 mss= 4 mf= 2\n",
      "0.9341317365269461 md= 9 msl= 9 mss= 4 mf= 4\n",
      "0.9341317365269461 md= 9 msl= 9 mss= 4 mf= 6\n",
      "0.9341317365269461 md= 9 msl= 9 mss= 4 mf= 8\n",
      "0.9461077844311377 md= 9 msl= 9 mss= 6 mf= 2\n",
      "0.9341317365269461 md= 9 msl= 9 mss= 6 mf= 4\n",
      "0.9341317365269461 md= 9 msl= 9 mss= 6 mf= 6\n",
      "0.9341317365269461 md= 9 msl= 9 mss= 6 mf= 8\n",
      "0.9461077844311377 md= 9 msl= 9 mss= 8 mf= 2\n",
      "0.9341317365269461 md= 9 msl= 9 mss= 8 mf= 4\n",
      "0.9341317365269461 md= 9 msl= 9 mss= 8 mf= 6\n",
      "0.9341317365269461 md= 9 msl= 9 mss= 8 mf= 8\n"
     ]
    }
   ],
   "source": [
    "resultados = []\n",
    "# RandomForestClassifier(random_state=17,n_estimators=i)\n",
    "for i in range(1,10,2):\n",
    "    for j in range(1,10,2):\n",
    "        for k in range(2,10,2):\n",
    "            for t in range(2,10,2):\n",
    "                model_DT = DecisionTreeClassifier(max_depth=i, min_samples_leaf=j, random_state=1, min_samples_split=k, max_features=t)\n",
    "                model_DT.fit(X_train, y_train)\n",
    "                resultado = (model_DT.score(X_test, y_test))\n",
    "                print(resultado,'md=',i,'msl=',j, 'mss=',k, 'mf=',t)\n",
    "                resultados.append(resultado)"
   ]
  },
  {
   "cell_type": "code",
   "execution_count": 62,
   "metadata": {},
   "outputs": [
    {
     "name": "stdout",
     "output_type": "stream",
     "text": [
      "El mejor resultado es: 0.9640718562874252\n"
     ]
    }
   ],
   "source": [
    "print(f'El mejor resultado es: {max(resultados)}')"
   ]
  },
  {
   "cell_type": "code",
   "execution_count": 63,
   "metadata": {},
   "outputs": [],
   "source": [
    "# Módulo Random forestClassifier \n",
    "from sklearn.ensemble import RandomForestClassifier"
   ]
  },
  {
   "cell_type": "code",
   "execution_count": 64,
   "metadata": {},
   "outputs": [],
   "source": [
    "# Modelo \n",
    "model_RF = RandomForestClassifier(random_state=17, max_depth=5, n_estimators=100, min_samples_leaf=5, min_samples_split=5)"
   ]
  },
  {
   "cell_type": "code",
   "execution_count": 65,
   "metadata": {},
   "outputs": [
    {
     "data": {
      "text/html": [
       "<style>#sk-container-id-4 {color: black;}#sk-container-id-4 pre{padding: 0;}#sk-container-id-4 div.sk-toggleable {background-color: white;}#sk-container-id-4 label.sk-toggleable__label {cursor: pointer;display: block;width: 100%;margin-bottom: 0;padding: 0.3em;box-sizing: border-box;text-align: center;}#sk-container-id-4 label.sk-toggleable__label-arrow:before {content: \"▸\";float: left;margin-right: 0.25em;color: #696969;}#sk-container-id-4 label.sk-toggleable__label-arrow:hover:before {color: black;}#sk-container-id-4 div.sk-estimator:hover label.sk-toggleable__label-arrow:before {color: black;}#sk-container-id-4 div.sk-toggleable__content {max-height: 0;max-width: 0;overflow: hidden;text-align: left;background-color: #f0f8ff;}#sk-container-id-4 div.sk-toggleable__content pre {margin: 0.2em;color: black;border-radius: 0.25em;background-color: #f0f8ff;}#sk-container-id-4 input.sk-toggleable__control:checked~div.sk-toggleable__content {max-height: 200px;max-width: 100%;overflow: auto;}#sk-container-id-4 input.sk-toggleable__control:checked~label.sk-toggleable__label-arrow:before {content: \"▾\";}#sk-container-id-4 div.sk-estimator input.sk-toggleable__control:checked~label.sk-toggleable__label {background-color: #d4ebff;}#sk-container-id-4 div.sk-label input.sk-toggleable__control:checked~label.sk-toggleable__label {background-color: #d4ebff;}#sk-container-id-4 input.sk-hidden--visually {border: 0;clip: rect(1px 1px 1px 1px);clip: rect(1px, 1px, 1px, 1px);height: 1px;margin: -1px;overflow: hidden;padding: 0;position: absolute;width: 1px;}#sk-container-id-4 div.sk-estimator {font-family: monospace;background-color: #f0f8ff;border: 1px dotted black;border-radius: 0.25em;box-sizing: border-box;margin-bottom: 0.5em;}#sk-container-id-4 div.sk-estimator:hover {background-color: #d4ebff;}#sk-container-id-4 div.sk-parallel-item::after {content: \"\";width: 100%;border-bottom: 1px solid gray;flex-grow: 1;}#sk-container-id-4 div.sk-label:hover label.sk-toggleable__label {background-color: #d4ebff;}#sk-container-id-4 div.sk-serial::before {content: \"\";position: absolute;border-left: 1px solid gray;box-sizing: border-box;top: 0;bottom: 0;left: 50%;z-index: 0;}#sk-container-id-4 div.sk-serial {display: flex;flex-direction: column;align-items: center;background-color: white;padding-right: 0.2em;padding-left: 0.2em;position: relative;}#sk-container-id-4 div.sk-item {position: relative;z-index: 1;}#sk-container-id-4 div.sk-parallel {display: flex;align-items: stretch;justify-content: center;background-color: white;position: relative;}#sk-container-id-4 div.sk-item::before, #sk-container-id-4 div.sk-parallel-item::before {content: \"\";position: absolute;border-left: 1px solid gray;box-sizing: border-box;top: 0;bottom: 0;left: 50%;z-index: -1;}#sk-container-id-4 div.sk-parallel-item {display: flex;flex-direction: column;z-index: 1;position: relative;background-color: white;}#sk-container-id-4 div.sk-parallel-item:first-child::after {align-self: flex-end;width: 50%;}#sk-container-id-4 div.sk-parallel-item:last-child::after {align-self: flex-start;width: 50%;}#sk-container-id-4 div.sk-parallel-item:only-child::after {width: 0;}#sk-container-id-4 div.sk-dashed-wrapped {border: 1px dashed gray;margin: 0 0.4em 0.5em 0.4em;box-sizing: border-box;padding-bottom: 0.4em;background-color: white;}#sk-container-id-4 div.sk-label label {font-family: monospace;font-weight: bold;display: inline-block;line-height: 1.2em;}#sk-container-id-4 div.sk-label-container {text-align: center;}#sk-container-id-4 div.sk-container {/* jupyter's `normalize.less` sets `[hidden] { display: none; }` but bootstrap.min.css set `[hidden] { display: none !important; }` so we also need the `!important` here to be able to override the default hidden behavior on the sphinx rendered scikit-learn.org. See: https://github.com/scikit-learn/scikit-learn/issues/21755 */display: inline-block !important;position: relative;}#sk-container-id-4 div.sk-text-repr-fallback {display: none;}</style><div id=\"sk-container-id-4\" class=\"sk-top-container\"><div class=\"sk-text-repr-fallback\"><pre>RandomForestClassifier(max_depth=5, min_samples_leaf=5, min_samples_split=5,\n",
       "                       random_state=17)</pre><b>In a Jupyter environment, please rerun this cell to show the HTML representation or trust the notebook. <br />On GitHub, the HTML representation is unable to render, please try loading this page with nbviewer.org.</b></div><div class=\"sk-container\" hidden><div class=\"sk-item\"><div class=\"sk-estimator sk-toggleable\"><input class=\"sk-toggleable__control sk-hidden--visually\" id=\"sk-estimator-id-4\" type=\"checkbox\" checked><label for=\"sk-estimator-id-4\" class=\"sk-toggleable__label sk-toggleable__label-arrow\">RandomForestClassifier</label><div class=\"sk-toggleable__content\"><pre>RandomForestClassifier(max_depth=5, min_samples_leaf=5, min_samples_split=5,\n",
       "                       random_state=17)</pre></div></div></div></div></div>"
      ],
      "text/plain": [
       "RandomForestClassifier(max_depth=5, min_samples_leaf=5, min_samples_split=5,\n",
       "                       random_state=17)"
      ]
     },
     "execution_count": 65,
     "metadata": {},
     "output_type": "execute_result"
    }
   ],
   "source": [
    "# Ajuste del modelo\n",
    "model_RF.fit(X_train, y_train)\n"
   ]
  },
  {
   "cell_type": "code",
   "execution_count": 66,
   "metadata": {},
   "outputs": [
    {
     "data": {
      "text/plain": [
       "0.9640718562874252"
      ]
     },
     "execution_count": 66,
     "metadata": {},
     "output_type": "execute_result"
    }
   ],
   "source": [
    "# Predicción\n",
    "model_RF.score(X_test,y_test)"
   ]
  },
  {
   "cell_type": "code",
   "execution_count": 69,
   "metadata": {},
   "outputs": [
    {
     "name": "stdout",
     "output_type": "stream",
     "text": [
      "0.8922155688622755 md= 1 msl= 1 mss= 1 mf= 2\n",
      "0.8922155688622755 md= 1 msl= 1 mss= 1 mf= 4\n",
      "0.8922155688622755 md= 1 msl= 1 mss= 1 mf= 6\n",
      "0.8922155688622755 md= 1 msl= 1 mss= 1 mf= 8\n",
      "0.8922155688622755 md= 1 msl= 1 mss= 3 mf= 2\n",
      "0.8922155688622755 md= 1 msl= 1 mss= 3 mf= 4\n",
      "0.8922155688622755 md= 1 msl= 1 mss= 3 mf= 6\n",
      "0.8922155688622755 md= 1 msl= 1 mss= 3 mf= 8\n",
      "0.8922155688622755 md= 1 msl= 1 mss= 5 mf= 2\n",
      "0.8922155688622755 md= 1 msl= 1 mss= 5 mf= 4\n",
      "0.8922155688622755 md= 1 msl= 1 mss= 5 mf= 6\n",
      "0.8922155688622755 md= 1 msl= 1 mss= 5 mf= 8\n",
      "0.8922155688622755 md= 1 msl= 1 mss= 7 mf= 2\n",
      "0.8922155688622755 md= 1 msl= 1 mss= 7 mf= 4\n",
      "0.8922155688622755 md= 1 msl= 1 mss= 7 mf= 6\n",
      "0.8922155688622755 md= 1 msl= 1 mss= 7 mf= 8\n",
      "0.8922155688622755 md= 1 msl= 1 mss= 9 mf= 2\n",
      "0.8922155688622755 md= 1 msl= 1 mss= 9 mf= 4\n",
      "0.8922155688622755 md= 1 msl= 1 mss= 9 mf= 6\n",
      "0.8922155688622755 md= 1 msl= 1 mss= 9 mf= 8\n",
      "0.8922155688622755 md= 1 msl= 3 mss= 1 mf= 2\n",
      "0.8922155688622755 md= 1 msl= 3 mss= 1 mf= 4\n",
      "0.8922155688622755 md= 1 msl= 3 mss= 1 mf= 6\n",
      "0.8922155688622755 md= 1 msl= 3 mss= 1 mf= 8\n",
      "0.8922155688622755 md= 1 msl= 3 mss= 3 mf= 2\n",
      "0.8922155688622755 md= 1 msl= 3 mss= 3 mf= 4\n",
      "0.8922155688622755 md= 1 msl= 3 mss= 3 mf= 6\n",
      "0.8922155688622755 md= 1 msl= 3 mss= 3 mf= 8\n",
      "0.8922155688622755 md= 1 msl= 3 mss= 5 mf= 2\n",
      "0.8922155688622755 md= 1 msl= 3 mss= 5 mf= 4\n",
      "0.8922155688622755 md= 1 msl= 3 mss= 5 mf= 6\n",
      "0.8922155688622755 md= 1 msl= 3 mss= 5 mf= 8\n",
      "0.8922155688622755 md= 1 msl= 3 mss= 7 mf= 2\n",
      "0.8922155688622755 md= 1 msl= 3 mss= 7 mf= 4\n",
      "0.8922155688622755 md= 1 msl= 3 mss= 7 mf= 6\n",
      "0.8922155688622755 md= 1 msl= 3 mss= 7 mf= 8\n",
      "0.8922155688622755 md= 1 msl= 3 mss= 9 mf= 2\n",
      "0.8922155688622755 md= 1 msl= 3 mss= 9 mf= 4\n",
      "0.8922155688622755 md= 1 msl= 3 mss= 9 mf= 6\n",
      "0.8922155688622755 md= 1 msl= 3 mss= 9 mf= 8\n",
      "0.9520958083832335 md= 1 msl= 5 mss= 1 mf= 2\n",
      "0.9520958083832335 md= 1 msl= 5 mss= 1 mf= 4\n",
      "0.9520958083832335 md= 1 msl= 5 mss= 1 mf= 6\n",
      "0.9520958083832335 md= 1 msl= 5 mss= 1 mf= 8\n",
      "0.9520958083832335 md= 1 msl= 5 mss= 3 mf= 2\n",
      "0.9520958083832335 md= 1 msl= 5 mss= 3 mf= 4\n",
      "0.9520958083832335 md= 1 msl= 5 mss= 3 mf= 6\n",
      "0.9520958083832335 md= 1 msl= 5 mss= 3 mf= 8\n",
      "0.9520958083832335 md= 1 msl= 5 mss= 5 mf= 2\n",
      "0.9520958083832335 md= 1 msl= 5 mss= 5 mf= 4\n",
      "0.9520958083832335 md= 1 msl= 5 mss= 5 mf= 6\n",
      "0.9520958083832335 md= 1 msl= 5 mss= 5 mf= 8\n",
      "0.9520958083832335 md= 1 msl= 5 mss= 7 mf= 2\n",
      "0.9520958083832335 md= 1 msl= 5 mss= 7 mf= 4\n",
      "0.9520958083832335 md= 1 msl= 5 mss= 7 mf= 6\n",
      "0.9520958083832335 md= 1 msl= 5 mss= 7 mf= 8\n",
      "0.9520958083832335 md= 1 msl= 5 mss= 9 mf= 2\n",
      "0.9520958083832335 md= 1 msl= 5 mss= 9 mf= 4\n",
      "0.9520958083832335 md= 1 msl= 5 mss= 9 mf= 6\n",
      "0.9520958083832335 md= 1 msl= 5 mss= 9 mf= 8\n",
      "0.9700598802395209 md= 1 msl= 7 mss= 1 mf= 2\n",
      "0.9700598802395209 md= 1 msl= 7 mss= 1 mf= 4\n",
      "0.9700598802395209 md= 1 msl= 7 mss= 1 mf= 6\n",
      "0.9700598802395209 md= 1 msl= 7 mss= 1 mf= 8\n",
      "0.9700598802395209 md= 1 msl= 7 mss= 3 mf= 2\n",
      "0.9700598802395209 md= 1 msl= 7 mss= 3 mf= 4\n",
      "0.9700598802395209 md= 1 msl= 7 mss= 3 mf= 6\n",
      "0.9700598802395209 md= 1 msl= 7 mss= 3 mf= 8\n",
      "0.9700598802395209 md= 1 msl= 7 mss= 5 mf= 2\n",
      "0.9700598802395209 md= 1 msl= 7 mss= 5 mf= 4\n",
      "0.9700598802395209 md= 1 msl= 7 mss= 5 mf= 6\n",
      "0.9700598802395209 md= 1 msl= 7 mss= 5 mf= 8\n",
      "0.9700598802395209 md= 1 msl= 7 mss= 7 mf= 2\n",
      "0.9700598802395209 md= 1 msl= 7 mss= 7 mf= 4\n",
      "0.9700598802395209 md= 1 msl= 7 mss= 7 mf= 6\n",
      "0.9700598802395209 md= 1 msl= 7 mss= 7 mf= 8\n",
      "0.9700598802395209 md= 1 msl= 7 mss= 9 mf= 2\n",
      "0.9700598802395209 md= 1 msl= 7 mss= 9 mf= 4\n",
      "0.9700598802395209 md= 1 msl= 7 mss= 9 mf= 6\n",
      "0.9700598802395209 md= 1 msl= 7 mss= 9 mf= 8\n",
      "0.9640718562874252 md= 1 msl= 9 mss= 1 mf= 2\n",
      "0.9640718562874252 md= 1 msl= 9 mss= 1 mf= 4\n",
      "0.9640718562874252 md= 1 msl= 9 mss= 1 mf= 6\n",
      "0.9640718562874252 md= 1 msl= 9 mss= 1 mf= 8\n",
      "0.9640718562874252 md= 1 msl= 9 mss= 3 mf= 2\n",
      "0.9640718562874252 md= 1 msl= 9 mss= 3 mf= 4\n",
      "0.9640718562874252 md= 1 msl= 9 mss= 3 mf= 6\n",
      "0.9640718562874252 md= 1 msl= 9 mss= 3 mf= 8\n",
      "0.9640718562874252 md= 1 msl= 9 mss= 5 mf= 2\n",
      "0.9640718562874252 md= 1 msl= 9 mss= 5 mf= 4\n",
      "0.9640718562874252 md= 1 msl= 9 mss= 5 mf= 6\n",
      "0.9640718562874252 md= 1 msl= 9 mss= 5 mf= 8\n",
      "0.9640718562874252 md= 1 msl= 9 mss= 7 mf= 2\n",
      "0.9640718562874252 md= 1 msl= 9 mss= 7 mf= 4\n",
      "0.9640718562874252 md= 1 msl= 9 mss= 7 mf= 6\n",
      "0.9640718562874252 md= 1 msl= 9 mss= 7 mf= 8\n",
      "0.9640718562874252 md= 1 msl= 9 mss= 9 mf= 2\n",
      "0.9640718562874252 md= 1 msl= 9 mss= 9 mf= 4\n",
      "0.9640718562874252 md= 1 msl= 9 mss= 9 mf= 6\n",
      "0.9640718562874252 md= 1 msl= 9 mss= 9 mf= 8\n",
      "0.9401197604790419 md= 3 msl= 1 mss= 1 mf= 2\n",
      "0.9401197604790419 md= 3 msl= 1 mss= 1 mf= 4\n",
      "0.9401197604790419 md= 3 msl= 1 mss= 1 mf= 6\n",
      "0.9401197604790419 md= 3 msl= 1 mss= 1 mf= 8\n",
      "0.9520958083832335 md= 3 msl= 1 mss= 3 mf= 2\n",
      "0.9520958083832335 md= 3 msl= 1 mss= 3 mf= 4\n",
      "0.9520958083832335 md= 3 msl= 1 mss= 3 mf= 6\n",
      "0.9520958083832335 md= 3 msl= 1 mss= 3 mf= 8\n",
      "0.9520958083832335 md= 3 msl= 1 mss= 5 mf= 2\n",
      "0.9520958083832335 md= 3 msl= 1 mss= 5 mf= 4\n",
      "0.9520958083832335 md= 3 msl= 1 mss= 5 mf= 6\n",
      "0.9520958083832335 md= 3 msl= 1 mss= 5 mf= 8\n",
      "0.9341317365269461 md= 3 msl= 1 mss= 7 mf= 2\n",
      "0.9341317365269461 md= 3 msl= 1 mss= 7 mf= 4\n",
      "0.9341317365269461 md= 3 msl= 1 mss= 7 mf= 6\n",
      "0.9341317365269461 md= 3 msl= 1 mss= 7 mf= 8\n",
      "0.9461077844311377 md= 3 msl= 1 mss= 9 mf= 2\n",
      "0.9461077844311377 md= 3 msl= 1 mss= 9 mf= 4\n",
      "0.9461077844311377 md= 3 msl= 1 mss= 9 mf= 6\n",
      "0.9461077844311377 md= 3 msl= 1 mss= 9 mf= 8\n",
      "0.9520958083832335 md= 3 msl= 3 mss= 1 mf= 2\n",
      "0.9520958083832335 md= 3 msl= 3 mss= 1 mf= 4\n",
      "0.9520958083832335 md= 3 msl= 3 mss= 1 mf= 6\n",
      "0.9520958083832335 md= 3 msl= 3 mss= 1 mf= 8\n",
      "0.9520958083832335 md= 3 msl= 3 mss= 3 mf= 2\n",
      "0.9520958083832335 md= 3 msl= 3 mss= 3 mf= 4\n",
      "0.9520958083832335 md= 3 msl= 3 mss= 3 mf= 6\n",
      "0.9520958083832335 md= 3 msl= 3 mss= 3 mf= 8\n",
      "0.9461077844311377 md= 3 msl= 3 mss= 5 mf= 2\n",
      "0.9461077844311377 md= 3 msl= 3 mss= 5 mf= 4\n",
      "0.9461077844311377 md= 3 msl= 3 mss= 5 mf= 6\n",
      "0.9461077844311377 md= 3 msl= 3 mss= 5 mf= 8\n",
      "0.9461077844311377 md= 3 msl= 3 mss= 7 mf= 2\n",
      "0.9461077844311377 md= 3 msl= 3 mss= 7 mf= 4\n",
      "0.9461077844311377 md= 3 msl= 3 mss= 7 mf= 6\n",
      "0.9461077844311377 md= 3 msl= 3 mss= 7 mf= 8\n",
      "0.9461077844311377 md= 3 msl= 3 mss= 9 mf= 2\n",
      "0.9461077844311377 md= 3 msl= 3 mss= 9 mf= 4\n",
      "0.9461077844311377 md= 3 msl= 3 mss= 9 mf= 6\n",
      "0.9461077844311377 md= 3 msl= 3 mss= 9 mf= 8\n",
      "0.9580838323353293 md= 3 msl= 5 mss= 1 mf= 2\n",
      "0.9580838323353293 md= 3 msl= 5 mss= 1 mf= 4\n",
      "0.9580838323353293 md= 3 msl= 5 mss= 1 mf= 6\n",
      "0.9580838323353293 md= 3 msl= 5 mss= 1 mf= 8\n",
      "0.9700598802395209 md= 3 msl= 5 mss= 3 mf= 2\n",
      "0.9700598802395209 md= 3 msl= 5 mss= 3 mf= 4\n",
      "0.9700598802395209 md= 3 msl= 5 mss= 3 mf= 6\n",
      "0.9700598802395209 md= 3 msl= 5 mss= 3 mf= 8\n",
      "0.9700598802395209 md= 3 msl= 5 mss= 5 mf= 2\n",
      "0.9700598802395209 md= 3 msl= 5 mss= 5 mf= 4\n",
      "0.9700598802395209 md= 3 msl= 5 mss= 5 mf= 6\n",
      "0.9700598802395209 md= 3 msl= 5 mss= 5 mf= 8\n",
      "0.9700598802395209 md= 3 msl= 5 mss= 7 mf= 2\n",
      "0.9700598802395209 md= 3 msl= 5 mss= 7 mf= 4\n",
      "0.9700598802395209 md= 3 msl= 5 mss= 7 mf= 6\n",
      "0.9700598802395209 md= 3 msl= 5 mss= 7 mf= 8\n",
      "0.9640718562874252 md= 3 msl= 5 mss= 9 mf= 2\n",
      "0.9640718562874252 md= 3 msl= 5 mss= 9 mf= 4\n",
      "0.9640718562874252 md= 3 msl= 5 mss= 9 mf= 6\n",
      "0.9640718562874252 md= 3 msl= 5 mss= 9 mf= 8\n",
      "0.9520958083832335 md= 3 msl= 7 mss= 1 mf= 2\n",
      "0.9520958083832335 md= 3 msl= 7 mss= 1 mf= 4\n",
      "0.9520958083832335 md= 3 msl= 7 mss= 1 mf= 6\n",
      "0.9520958083832335 md= 3 msl= 7 mss= 1 mf= 8\n",
      "0.9580838323353293 md= 3 msl= 7 mss= 3 mf= 2\n",
      "0.9580838323353293 md= 3 msl= 7 mss= 3 mf= 4\n",
      "0.9580838323353293 md= 3 msl= 7 mss= 3 mf= 6\n",
      "0.9580838323353293 md= 3 msl= 7 mss= 3 mf= 8\n",
      "0.9520958083832335 md= 3 msl= 7 mss= 5 mf= 2\n",
      "0.9520958083832335 md= 3 msl= 7 mss= 5 mf= 4\n",
      "0.9520958083832335 md= 3 msl= 7 mss= 5 mf= 6\n",
      "0.9520958083832335 md= 3 msl= 7 mss= 5 mf= 8\n",
      "0.9520958083832335 md= 3 msl= 7 mss= 7 mf= 2\n",
      "0.9520958083832335 md= 3 msl= 7 mss= 7 mf= 4\n",
      "0.9520958083832335 md= 3 msl= 7 mss= 7 mf= 6\n",
      "0.9520958083832335 md= 3 msl= 7 mss= 7 mf= 8\n",
      "0.9640718562874252 md= 3 msl= 7 mss= 9 mf= 2\n",
      "0.9640718562874252 md= 3 msl= 7 mss= 9 mf= 4\n",
      "0.9640718562874252 md= 3 msl= 7 mss= 9 mf= 6\n",
      "0.9640718562874252 md= 3 msl= 7 mss= 9 mf= 8\n",
      "0.9520958083832335 md= 3 msl= 9 mss= 1 mf= 2\n",
      "0.9520958083832335 md= 3 msl= 9 mss= 1 mf= 4\n",
      "0.9520958083832335 md= 3 msl= 9 mss= 1 mf= 6\n",
      "0.9520958083832335 md= 3 msl= 9 mss= 1 mf= 8\n",
      "0.9520958083832335 md= 3 msl= 9 mss= 3 mf= 2\n",
      "0.9520958083832335 md= 3 msl= 9 mss= 3 mf= 4\n",
      "0.9520958083832335 md= 3 msl= 9 mss= 3 mf= 6\n",
      "0.9520958083832335 md= 3 msl= 9 mss= 3 mf= 8\n",
      "0.9520958083832335 md= 3 msl= 9 mss= 5 mf= 2\n",
      "0.9520958083832335 md= 3 msl= 9 mss= 5 mf= 4\n",
      "0.9520958083832335 md= 3 msl= 9 mss= 5 mf= 6\n",
      "0.9520958083832335 md= 3 msl= 9 mss= 5 mf= 8\n",
      "0.9461077844311377 md= 3 msl= 9 mss= 7 mf= 2\n",
      "0.9461077844311377 md= 3 msl= 9 mss= 7 mf= 4\n",
      "0.9461077844311377 md= 3 msl= 9 mss= 7 mf= 6\n",
      "0.9461077844311377 md= 3 msl= 9 mss= 7 mf= 8\n",
      "0.9640718562874252 md= 3 msl= 9 mss= 9 mf= 2\n",
      "0.9640718562874252 md= 3 msl= 9 mss= 9 mf= 4\n",
      "0.9640718562874252 md= 3 msl= 9 mss= 9 mf= 6\n",
      "0.9640718562874252 md= 3 msl= 9 mss= 9 mf= 8\n",
      "0.9221556886227545 md= 5 msl= 1 mss= 1 mf= 2\n",
      "0.9281437125748503 md= 5 msl= 1 mss= 1 mf= 4\n",
      "0.9281437125748503 md= 5 msl= 1 mss= 1 mf= 6\n",
      "0.9281437125748503 md= 5 msl= 1 mss= 1 mf= 8\n",
      "0.9281437125748503 md= 5 msl= 1 mss= 3 mf= 2\n",
      "0.9281437125748503 md= 5 msl= 1 mss= 3 mf= 4\n",
      "0.9281437125748503 md= 5 msl= 1 mss= 3 mf= 6\n",
      "0.9281437125748503 md= 5 msl= 1 mss= 3 mf= 8\n",
      "0.9281437125748503 md= 5 msl= 1 mss= 5 mf= 2\n",
      "0.9281437125748503 md= 5 msl= 1 mss= 5 mf= 4\n",
      "0.9281437125748503 md= 5 msl= 1 mss= 5 mf= 6\n",
      "0.9281437125748503 md= 5 msl= 1 mss= 5 mf= 8\n",
      "0.9341317365269461 md= 5 msl= 1 mss= 7 mf= 2\n",
      "0.9341317365269461 md= 5 msl= 1 mss= 7 mf= 4\n",
      "0.9341317365269461 md= 5 msl= 1 mss= 7 mf= 6\n",
      "0.9341317365269461 md= 5 msl= 1 mss= 7 mf= 8\n",
      "0.9461077844311377 md= 5 msl= 1 mss= 9 mf= 2\n",
      "0.9461077844311377 md= 5 msl= 1 mss= 9 mf= 4\n",
      "0.9461077844311377 md= 5 msl= 1 mss= 9 mf= 6\n",
      "0.9461077844311377 md= 5 msl= 1 mss= 9 mf= 8\n",
      "0.9580838323353293 md= 5 msl= 3 mss= 1 mf= 2\n",
      "0.9700598802395209 md= 5 msl= 3 mss= 1 mf= 4\n",
      "0.9700598802395209 md= 5 msl= 3 mss= 1 mf= 6\n",
      "0.9700598802395209 md= 5 msl= 3 mss= 1 mf= 8\n",
      "0.9580838323353293 md= 5 msl= 3 mss= 3 mf= 2\n",
      "0.9580838323353293 md= 5 msl= 3 mss= 3 mf= 4\n",
      "0.9580838323353293 md= 5 msl= 3 mss= 3 mf= 6\n",
      "0.9700598802395209 md= 5 msl= 3 mss= 3 mf= 8\n",
      "0.9461077844311377 md= 5 msl= 3 mss= 5 mf= 2\n",
      "0.9461077844311377 md= 5 msl= 3 mss= 5 mf= 4\n",
      "0.9461077844311377 md= 5 msl= 3 mss= 5 mf= 6\n",
      "0.9461077844311377 md= 5 msl= 3 mss= 5 mf= 8\n",
      "0.9580838323353293 md= 5 msl= 3 mss= 7 mf= 2\n",
      "0.9580838323353293 md= 5 msl= 3 mss= 7 mf= 4\n",
      "0.9580838323353293 md= 5 msl= 3 mss= 7 mf= 6\n",
      "0.9580838323353293 md= 5 msl= 3 mss= 7 mf= 8\n",
      "0.9461077844311377 md= 5 msl= 3 mss= 9 mf= 2\n",
      "0.9461077844311377 md= 5 msl= 3 mss= 9 mf= 4\n",
      "0.9461077844311377 md= 5 msl= 3 mss= 9 mf= 6\n",
      "0.9461077844311377 md= 5 msl= 3 mss= 9 mf= 8\n",
      "0.9760479041916168 md= 5 msl= 5 mss= 1 mf= 2\n",
      "0.9640718562874252 md= 5 msl= 5 mss= 1 mf= 4\n",
      "0.9640718562874252 md= 5 msl= 5 mss= 1 mf= 6\n",
      "0.9580838323353293 md= 5 msl= 5 mss= 1 mf= 8\n",
      "0.9640718562874252 md= 5 msl= 5 mss= 3 mf= 2\n",
      "0.9640718562874252 md= 5 msl= 5 mss= 3 mf= 4\n",
      "0.9640718562874252 md= 5 msl= 5 mss= 3 mf= 6\n",
      "0.9760479041916168 md= 5 msl= 5 mss= 3 mf= 8\n",
      "0.9640718562874252 md= 5 msl= 5 mss= 5 mf= 2\n",
      "0.9640718562874252 md= 5 msl= 5 mss= 5 mf= 4\n",
      "0.9640718562874252 md= 5 msl= 5 mss= 5 mf= 6\n",
      "0.9640718562874252 md= 5 msl= 5 mss= 5 mf= 8\n",
      "0.9580838323353293 md= 5 msl= 5 mss= 7 mf= 2\n",
      "0.9580838323353293 md= 5 msl= 5 mss= 7 mf= 4\n",
      "0.9580838323353293 md= 5 msl= 5 mss= 7 mf= 6\n",
      "0.9580838323353293 md= 5 msl= 5 mss= 7 mf= 8\n",
      "0.9580838323353293 md= 5 msl= 5 mss= 9 mf= 2\n",
      "0.9580838323353293 md= 5 msl= 5 mss= 9 mf= 4\n",
      "0.9580838323353293 md= 5 msl= 5 mss= 9 mf= 6\n",
      "0.9580838323353293 md= 5 msl= 5 mss= 9 mf= 8\n",
      "0.9760479041916168 md= 5 msl= 7 mss= 1 mf= 2\n",
      "0.9580838323353293 md= 5 msl= 7 mss= 1 mf= 4\n",
      "0.9640718562874252 md= 5 msl= 7 mss= 1 mf= 6\n",
      "0.9640718562874252 md= 5 msl= 7 mss= 1 mf= 8\n",
      "0.9461077844311377 md= 5 msl= 7 mss= 3 mf= 2\n",
      "0.9461077844311377 md= 5 msl= 7 mss= 3 mf= 4\n",
      "0.9461077844311377 md= 5 msl= 7 mss= 3 mf= 6\n",
      "0.9520958083832335 md= 5 msl= 7 mss= 3 mf= 8\n",
      "0.9580838323353293 md= 5 msl= 7 mss= 5 mf= 2\n",
      "0.9580838323353293 md= 5 msl= 7 mss= 5 mf= 4\n",
      "0.9580838323353293 md= 5 msl= 7 mss= 5 mf= 6\n",
      "0.9580838323353293 md= 5 msl= 7 mss= 5 mf= 8\n",
      "0.9520958083832335 md= 5 msl= 7 mss= 7 mf= 2\n",
      "0.9520958083832335 md= 5 msl= 7 mss= 7 mf= 4\n",
      "0.9520958083832335 md= 5 msl= 7 mss= 7 mf= 6\n",
      "0.9520958083832335 md= 5 msl= 7 mss= 7 mf= 8\n",
      "0.9580838323353293 md= 5 msl= 7 mss= 9 mf= 2\n",
      "0.9580838323353293 md= 5 msl= 7 mss= 9 mf= 4\n",
      "0.9580838323353293 md= 5 msl= 7 mss= 9 mf= 6\n",
      "0.9580838323353293 md= 5 msl= 7 mss= 9 mf= 8\n",
      "0.9700598802395209 md= 5 msl= 9 mss= 1 mf= 2\n",
      "0.9580838323353293 md= 5 msl= 9 mss= 1 mf= 4\n",
      "0.9580838323353293 md= 5 msl= 9 mss= 1 mf= 6\n",
      "0.9580838323353293 md= 5 msl= 9 mss= 1 mf= 8\n",
      "0.9640718562874252 md= 5 msl= 9 mss= 3 mf= 2\n",
      "0.9640718562874252 md= 5 msl= 9 mss= 3 mf= 4\n",
      "0.9640718562874252 md= 5 msl= 9 mss= 3 mf= 6\n",
      "0.9640718562874252 md= 5 msl= 9 mss= 3 mf= 8\n",
      "0.9520958083832335 md= 5 msl= 9 mss= 5 mf= 2\n",
      "0.9520958083832335 md= 5 msl= 9 mss= 5 mf= 4\n",
      "0.9520958083832335 md= 5 msl= 9 mss= 5 mf= 6\n",
      "0.9520958083832335 md= 5 msl= 9 mss= 5 mf= 8\n",
      "0.9580838323353293 md= 5 msl= 9 mss= 7 mf= 2\n",
      "0.9580838323353293 md= 5 msl= 9 mss= 7 mf= 4\n",
      "0.9580838323353293 md= 5 msl= 9 mss= 7 mf= 6\n",
      "0.9580838323353293 md= 5 msl= 9 mss= 7 mf= 8\n",
      "0.9640718562874252 md= 5 msl= 9 mss= 9 mf= 2\n",
      "0.9640718562874252 md= 5 msl= 9 mss= 9 mf= 4\n",
      "0.9640718562874252 md= 5 msl= 9 mss= 9 mf= 6\n",
      "0.9640718562874252 md= 5 msl= 9 mss= 9 mf= 8\n",
      "0.9221556886227545 md= 7 msl= 1 mss= 1 mf= 2\n",
      "0.9221556886227545 md= 7 msl= 1 mss= 1 mf= 4\n",
      "0.9281437125748503 md= 7 msl= 1 mss= 1 mf= 6\n",
      "0.9341317365269461 md= 7 msl= 1 mss= 1 mf= 8\n",
      "0.9221556886227545 md= 7 msl= 1 mss= 3 mf= 2\n",
      "0.9221556886227545 md= 7 msl= 1 mss= 3 mf= 4\n",
      "0.9221556886227545 md= 7 msl= 1 mss= 3 mf= 6\n",
      "0.9221556886227545 md= 7 msl= 1 mss= 3 mf= 8\n",
      "0.9281437125748503 md= 7 msl= 1 mss= 5 mf= 2\n",
      "0.9281437125748503 md= 7 msl= 1 mss= 5 mf= 4\n",
      "0.9281437125748503 md= 7 msl= 1 mss= 5 mf= 6\n",
      "0.9281437125748503 md= 7 msl= 1 mss= 5 mf= 8\n",
      "0.9341317365269461 md= 7 msl= 1 mss= 7 mf= 2\n",
      "0.9341317365269461 md= 7 msl= 1 mss= 7 mf= 4\n",
      "0.9341317365269461 md= 7 msl= 1 mss= 7 mf= 6\n",
      "0.9341317365269461 md= 7 msl= 1 mss= 7 mf= 8\n",
      "0.9461077844311377 md= 7 msl= 1 mss= 9 mf= 2\n",
      "0.9461077844311377 md= 7 msl= 1 mss= 9 mf= 4\n",
      "0.9461077844311377 md= 7 msl= 1 mss= 9 mf= 6\n",
      "0.9461077844311377 md= 7 msl= 1 mss= 9 mf= 8\n",
      "0.9520958083832335 md= 7 msl= 3 mss= 1 mf= 2\n",
      "0.9520958083832335 md= 7 msl= 3 mss= 1 mf= 4\n",
      "0.9640718562874252 md= 7 msl= 3 mss= 1 mf= 6\n",
      "0.9700598802395209 md= 7 msl= 3 mss= 1 mf= 8\n",
      "0.9461077844311377 md= 7 msl= 3 mss= 3 mf= 2\n",
      "0.9461077844311377 md= 7 msl= 3 mss= 3 mf= 4\n",
      "0.9461077844311377 md= 7 msl= 3 mss= 3 mf= 6\n",
      "0.9640718562874252 md= 7 msl= 3 mss= 3 mf= 8\n",
      "0.9461077844311377 md= 7 msl= 3 mss= 5 mf= 2\n",
      "0.9461077844311377 md= 7 msl= 3 mss= 5 mf= 4\n",
      "0.9461077844311377 md= 7 msl= 3 mss= 5 mf= 6\n",
      "0.9461077844311377 md= 7 msl= 3 mss= 5 mf= 8\n",
      "0.9580838323353293 md= 7 msl= 3 mss= 7 mf= 2\n",
      "0.9580838323353293 md= 7 msl= 3 mss= 7 mf= 4\n",
      "0.9580838323353293 md= 7 msl= 3 mss= 7 mf= 6\n",
      "0.9580838323353293 md= 7 msl= 3 mss= 7 mf= 8\n",
      "0.9461077844311377 md= 7 msl= 3 mss= 9 mf= 2\n",
      "0.9461077844311377 md= 7 msl= 3 mss= 9 mf= 4\n",
      "0.9461077844311377 md= 7 msl= 3 mss= 9 mf= 6\n",
      "0.9461077844311377 md= 7 msl= 3 mss= 9 mf= 8\n",
      "0.9700598802395209 md= 7 msl= 5 mss= 1 mf= 2\n",
      "0.9640718562874252 md= 7 msl= 5 mss= 1 mf= 4\n",
      "0.9580838323353293 md= 7 msl= 5 mss= 1 mf= 6\n",
      "0.9700598802395209 md= 7 msl= 5 mss= 1 mf= 8\n",
      "0.9640718562874252 md= 7 msl= 5 mss= 3 mf= 2\n",
      "0.9640718562874252 md= 7 msl= 5 mss= 3 mf= 4\n",
      "0.9640718562874252 md= 7 msl= 5 mss= 3 mf= 6\n",
      "0.9700598802395209 md= 7 msl= 5 mss= 3 mf= 8\n",
      "0.9640718562874252 md= 7 msl= 5 mss= 5 mf= 2\n",
      "0.9640718562874252 md= 7 msl= 5 mss= 5 mf= 4\n",
      "0.9640718562874252 md= 7 msl= 5 mss= 5 mf= 6\n",
      "0.9640718562874252 md= 7 msl= 5 mss= 5 mf= 8\n",
      "0.9580838323353293 md= 7 msl= 5 mss= 7 mf= 2\n",
      "0.9580838323353293 md= 7 msl= 5 mss= 7 mf= 4\n",
      "0.9580838323353293 md= 7 msl= 5 mss= 7 mf= 6\n",
      "0.9580838323353293 md= 7 msl= 5 mss= 7 mf= 8\n",
      "0.9580838323353293 md= 7 msl= 5 mss= 9 mf= 2\n",
      "0.9580838323353293 md= 7 msl= 5 mss= 9 mf= 4\n",
      "0.9580838323353293 md= 7 msl= 5 mss= 9 mf= 6\n",
      "0.9580838323353293 md= 7 msl= 5 mss= 9 mf= 8\n",
      "0.9700598802395209 md= 7 msl= 7 mss= 1 mf= 2\n",
      "0.9580838323353293 md= 7 msl= 7 mss= 1 mf= 4\n",
      "0.9580838323353293 md= 7 msl= 7 mss= 1 mf= 6\n",
      "0.9700598802395209 md= 7 msl= 7 mss= 1 mf= 8\n",
      "0.9520958083832335 md= 7 msl= 7 mss= 3 mf= 2\n",
      "0.9520958083832335 md= 7 msl= 7 mss= 3 mf= 4\n",
      "0.9520958083832335 md= 7 msl= 7 mss= 3 mf= 6\n",
      "0.9520958083832335 md= 7 msl= 7 mss= 3 mf= 8\n",
      "0.9580838323353293 md= 7 msl= 7 mss= 5 mf= 2\n",
      "0.9580838323353293 md= 7 msl= 7 mss= 5 mf= 4\n",
      "0.9580838323353293 md= 7 msl= 7 mss= 5 mf= 6\n",
      "0.9580838323353293 md= 7 msl= 7 mss= 5 mf= 8\n",
      "0.9520958083832335 md= 7 msl= 7 mss= 7 mf= 2\n",
      "0.9520958083832335 md= 7 msl= 7 mss= 7 mf= 4\n",
      "0.9520958083832335 md= 7 msl= 7 mss= 7 mf= 6\n",
      "0.9520958083832335 md= 7 msl= 7 mss= 7 mf= 8\n",
      "0.9580838323353293 md= 7 msl= 7 mss= 9 mf= 2\n",
      "0.9580838323353293 md= 7 msl= 7 mss= 9 mf= 4\n",
      "0.9580838323353293 md= 7 msl= 7 mss= 9 mf= 6\n",
      "0.9580838323353293 md= 7 msl= 7 mss= 9 mf= 8\n",
      "0.9700598802395209 md= 7 msl= 9 mss= 1 mf= 2\n",
      "0.9700598802395209 md= 7 msl= 9 mss= 1 mf= 4\n",
      "0.9640718562874252 md= 7 msl= 9 mss= 1 mf= 6\n",
      "0.9580838323353293 md= 7 msl= 9 mss= 1 mf= 8\n",
      "0.9580838323353293 md= 7 msl= 9 mss= 3 mf= 2\n",
      "0.9580838323353293 md= 7 msl= 9 mss= 3 mf= 4\n",
      "0.9580838323353293 md= 7 msl= 9 mss= 3 mf= 6\n",
      "0.9580838323353293 md= 7 msl= 9 mss= 3 mf= 8\n",
      "0.9520958083832335 md= 7 msl= 9 mss= 5 mf= 2\n",
      "0.9520958083832335 md= 7 msl= 9 mss= 5 mf= 4\n",
      "0.9520958083832335 md= 7 msl= 9 mss= 5 mf= 6\n",
      "0.9520958083832335 md= 7 msl= 9 mss= 5 mf= 8\n",
      "0.9580838323353293 md= 7 msl= 9 mss= 7 mf= 2\n",
      "0.9580838323353293 md= 7 msl= 9 mss= 7 mf= 4\n",
      "0.9580838323353293 md= 7 msl= 9 mss= 7 mf= 6\n",
      "0.9580838323353293 md= 7 msl= 9 mss= 7 mf= 8\n",
      "0.9640718562874252 md= 7 msl= 9 mss= 9 mf= 2\n",
      "0.9640718562874252 md= 7 msl= 9 mss= 9 mf= 4\n",
      "0.9640718562874252 md= 7 msl= 9 mss= 9 mf= 6\n",
      "0.9640718562874252 md= 7 msl= 9 mss= 9 mf= 8\n",
      "0.9161676646706587 md= 9 msl= 1 mss= 1 mf= 2\n",
      "0.9221556886227545 md= 9 msl= 1 mss= 1 mf= 4\n",
      "0.9281437125748503 md= 9 msl= 1 mss= 1 mf= 6\n",
      "0.9341317365269461 md= 9 msl= 1 mss= 1 mf= 8\n",
      "0.9221556886227545 md= 9 msl= 1 mss= 3 mf= 2\n",
      "0.9221556886227545 md= 9 msl= 1 mss= 3 mf= 4\n",
      "0.9221556886227545 md= 9 msl= 1 mss= 3 mf= 6\n",
      "0.9221556886227545 md= 9 msl= 1 mss= 3 mf= 8\n",
      "0.9281437125748503 md= 9 msl= 1 mss= 5 mf= 2\n",
      "0.9281437125748503 md= 9 msl= 1 mss= 5 mf= 4\n",
      "0.9281437125748503 md= 9 msl= 1 mss= 5 mf= 6\n",
      "0.9281437125748503 md= 9 msl= 1 mss= 5 mf= 8\n",
      "0.9341317365269461 md= 9 msl= 1 mss= 7 mf= 2\n",
      "0.9341317365269461 md= 9 msl= 1 mss= 7 mf= 4\n",
      "0.9341317365269461 md= 9 msl= 1 mss= 7 mf= 6\n",
      "0.9341317365269461 md= 9 msl= 1 mss= 7 mf= 8\n",
      "0.9461077844311377 md= 9 msl= 1 mss= 9 mf= 2\n",
      "0.9461077844311377 md= 9 msl= 1 mss= 9 mf= 4\n",
      "0.9461077844311377 md= 9 msl= 1 mss= 9 mf= 6\n",
      "0.9461077844311377 md= 9 msl= 1 mss= 9 mf= 8\n",
      "0.9461077844311377 md= 9 msl= 3 mss= 1 mf= 2\n",
      "0.9520958083832335 md= 9 msl= 3 mss= 1 mf= 4\n",
      "0.9640718562874252 md= 9 msl= 3 mss= 1 mf= 6\n",
      "0.9700598802395209 md= 9 msl= 3 mss= 1 mf= 8\n",
      "0.9461077844311377 md= 9 msl= 3 mss= 3 mf= 2\n",
      "0.9461077844311377 md= 9 msl= 3 mss= 3 mf= 4\n",
      "0.9461077844311377 md= 9 msl= 3 mss= 3 mf= 6\n",
      "0.9640718562874252 md= 9 msl= 3 mss= 3 mf= 8\n",
      "0.9461077844311377 md= 9 msl= 3 mss= 5 mf= 2\n",
      "0.9461077844311377 md= 9 msl= 3 mss= 5 mf= 4\n",
      "0.9461077844311377 md= 9 msl= 3 mss= 5 mf= 6\n",
      "0.9461077844311377 md= 9 msl= 3 mss= 5 mf= 8\n",
      "0.9580838323353293 md= 9 msl= 3 mss= 7 mf= 2\n",
      "0.9580838323353293 md= 9 msl= 3 mss= 7 mf= 4\n",
      "0.9580838323353293 md= 9 msl= 3 mss= 7 mf= 6\n",
      "0.9580838323353293 md= 9 msl= 3 mss= 7 mf= 8\n",
      "0.9461077844311377 md= 9 msl= 3 mss= 9 mf= 2\n",
      "0.9461077844311377 md= 9 msl= 3 mss= 9 mf= 4\n",
      "0.9461077844311377 md= 9 msl= 3 mss= 9 mf= 6\n",
      "0.9461077844311377 md= 9 msl= 3 mss= 9 mf= 8\n",
      "0.9640718562874252 md= 9 msl= 5 mss= 1 mf= 2\n",
      "0.9640718562874252 md= 9 msl= 5 mss= 1 mf= 4\n",
      "0.9580838323353293 md= 9 msl= 5 mss= 1 mf= 6\n",
      "0.9700598802395209 md= 9 msl= 5 mss= 1 mf= 8\n",
      "0.9640718562874252 md= 9 msl= 5 mss= 3 mf= 2\n",
      "0.9640718562874252 md= 9 msl= 5 mss= 3 mf= 4\n",
      "0.9640718562874252 md= 9 msl= 5 mss= 3 mf= 6\n",
      "0.9700598802395209 md= 9 msl= 5 mss= 3 mf= 8\n",
      "0.9640718562874252 md= 9 msl= 5 mss= 5 mf= 2\n",
      "0.9640718562874252 md= 9 msl= 5 mss= 5 mf= 4\n",
      "0.9640718562874252 md= 9 msl= 5 mss= 5 mf= 6\n",
      "0.9640718562874252 md= 9 msl= 5 mss= 5 mf= 8\n",
      "0.9580838323353293 md= 9 msl= 5 mss= 7 mf= 2\n",
      "0.9580838323353293 md= 9 msl= 5 mss= 7 mf= 4\n",
      "0.9580838323353293 md= 9 msl= 5 mss= 7 mf= 6\n",
      "0.9580838323353293 md= 9 msl= 5 mss= 7 mf= 8\n",
      "0.9580838323353293 md= 9 msl= 5 mss= 9 mf= 2\n",
      "0.9580838323353293 md= 9 msl= 5 mss= 9 mf= 4\n",
      "0.9580838323353293 md= 9 msl= 5 mss= 9 mf= 6\n",
      "0.9580838323353293 md= 9 msl= 5 mss= 9 mf= 8\n",
      "0.9700598802395209 md= 9 msl= 7 mss= 1 mf= 2\n",
      "0.9580838323353293 md= 9 msl= 7 mss= 1 mf= 4\n",
      "0.9580838323353293 md= 9 msl= 7 mss= 1 mf= 6\n",
      "0.9700598802395209 md= 9 msl= 7 mss= 1 mf= 8\n",
      "0.9520958083832335 md= 9 msl= 7 mss= 3 mf= 2\n",
      "0.9520958083832335 md= 9 msl= 7 mss= 3 mf= 4\n",
      "0.9520958083832335 md= 9 msl= 7 mss= 3 mf= 6\n",
      "0.9520958083832335 md= 9 msl= 7 mss= 3 mf= 8\n",
      "0.9580838323353293 md= 9 msl= 7 mss= 5 mf= 2\n",
      "0.9580838323353293 md= 9 msl= 7 mss= 5 mf= 4\n",
      "0.9580838323353293 md= 9 msl= 7 mss= 5 mf= 6\n",
      "0.9580838323353293 md= 9 msl= 7 mss= 5 mf= 8\n",
      "0.9520958083832335 md= 9 msl= 7 mss= 7 mf= 2\n",
      "0.9520958083832335 md= 9 msl= 7 mss= 7 mf= 4\n",
      "0.9520958083832335 md= 9 msl= 7 mss= 7 mf= 6\n",
      "0.9520958083832335 md= 9 msl= 7 mss= 7 mf= 8\n",
      "0.9580838323353293 md= 9 msl= 7 mss= 9 mf= 2\n",
      "0.9580838323353293 md= 9 msl= 7 mss= 9 mf= 4\n",
      "0.9580838323353293 md= 9 msl= 7 mss= 9 mf= 6\n",
      "0.9580838323353293 md= 9 msl= 7 mss= 9 mf= 8\n",
      "0.9700598802395209 md= 9 msl= 9 mss= 1 mf= 2\n",
      "0.9700598802395209 md= 9 msl= 9 mss= 1 mf= 4\n",
      "0.9640718562874252 md= 9 msl= 9 mss= 1 mf= 6\n",
      "0.9580838323353293 md= 9 msl= 9 mss= 1 mf= 8\n",
      "0.9580838323353293 md= 9 msl= 9 mss= 3 mf= 2\n",
      "0.9580838323353293 md= 9 msl= 9 mss= 3 mf= 4\n",
      "0.9580838323353293 md= 9 msl= 9 mss= 3 mf= 6\n",
      "0.9580838323353293 md= 9 msl= 9 mss= 3 mf= 8\n",
      "0.9520958083832335 md= 9 msl= 9 mss= 5 mf= 2\n",
      "0.9520958083832335 md= 9 msl= 9 mss= 5 mf= 4\n",
      "0.9520958083832335 md= 9 msl= 9 mss= 5 mf= 6\n",
      "0.9520958083832335 md= 9 msl= 9 mss= 5 mf= 8\n",
      "0.9580838323353293 md= 9 msl= 9 mss= 7 mf= 2\n",
      "0.9580838323353293 md= 9 msl= 9 mss= 7 mf= 4\n",
      "0.9580838323353293 md= 9 msl= 9 mss= 7 mf= 6\n",
      "0.9580838323353293 md= 9 msl= 9 mss= 7 mf= 8\n",
      "0.9640718562874252 md= 9 msl= 9 mss= 9 mf= 2\n",
      "0.9640718562874252 md= 9 msl= 9 mss= 9 mf= 4\n",
      "0.9640718562874252 md= 9 msl= 9 mss= 9 mf= 6\n",
      "0.9640718562874252 md= 9 msl= 9 mss= 9 mf= 8\n"
     ]
    }
   ],
   "source": [
    "resultadosRF = []\n",
    "\n",
    "for i in range(1,10,2):\n",
    "    for j in range(1,10,2):\n",
    "        for r in range(1,10,2):\n",
    "            for t in range(2,10,2):\n",
    "                model_RF = RandomForestClassifier(random_state=17, max_depth=i, n_estimators=j, min_samples_leaf=r, min_samples_split=t)\n",
    "                model_RF.fit(X_train, y_train)\n",
    "                resultado = (model_RF.score(X_test, y_test))\n",
    "                print(resultado,'md=',i,'msl=',j, 'mss=',r, 'mf=',t)\n",
    "                resultadosRF.append(resultado)\n"
   ]
  },
  {
   "cell_type": "code",
   "execution_count": 70,
   "metadata": {},
   "outputs": [
    {
     "name": "stdout",
     "output_type": "stream",
     "text": [
      "El mejor resultado es: 0.9760479041916168\n"
     ]
    }
   ],
   "source": [
    "print(f'El mejor resultado es: {max(resultadosRF)}')"
   ]
  },
  {
   "cell_type": "markdown",
   "metadata": {},
   "source": [
    "## 7. Presente su solución"
   ]
  },
  {
   "cell_type": "markdown",
   "metadata": {},
   "source": [
    "| Modelo o clasificador   |  Eficiencia | Parametros de ajuste  |\n",
    "|---|---|---|\n",
    "|  Decision Tree |   96% |    max_depth=9 ,  min_samples_leaf=7, min_samples_split=4, max_features=2     |\n",
    "|  Random Forest   |  97% |     max_depth=5 ,   n_estimators=5,   min_samples_leaf=3 min_samples_split=8 |\n",
    "|"
   ]
  },
  {
   "cell_type": "markdown",
   "metadata": {},
   "source": [
    "¿Se encontró alguna mejoría con los nuevos parámetros para el\n",
    "tunning?\n",
    "En mi caso no encontré mejoría alguna ya que desde el inicio se tenía una buena métrica\n",
    "\n",
    "¿Cuáles fueron los nuevos valores de score encontrados? \n",
    "No hubo tanta variación entre un rango entre el 95% y 97% por lo que en sí solo se diferenciaban por los decimales e incluso en algunos casos no\n",
    "\n",
    "¿Cuál es su conclusión de este ejercicio?\n",
    "Que en algunos casos podría funcionar probar otros modelos y en este caso en particular no fue así pero si se experimento otra manera de modificar hiperparametros, también que el min_samples_split es especial al momento de cambiar su valor y por ello empecé con iteración de 2. También hubo ocacione en las cuales sucedio lo siguiente:\n",
    "\n",
    "````Python\n",
    "0.9520958083832335 md= 3 msl= 1 mss= 3 mf= 4\n",
    "0.9520958083832335 md= 3 msl= 1 mss= 3 mf= 6\n",
    "0.9520958083832335 md= 3 msl= 1 mss= 3 mf= 8\n",
    "0.9520958083832335 md= 3 msl= 1 mss= 5 mf= 2\n",
    "0.9520958083832335 md= 3 msl= 1 mss= 5 mf= 4\n",
    "0.9520958083832335 md= 3 msl= 1 mss= 5 mf= 6\n",
    "0.9520958083832335 md= 3 msl= 1 mss= 5 mf= 8\n",
    "````\n",
    "\n",
    "Por lo que se puede observar que si las variaciones en mss y mf no son tan influyentes en estos casos como el md."
   ]
  },
  {
   "cell_type": "markdown",
   "metadata": {},
   "source": []
  }
 ],
 "metadata": {
  "kernelspec": {
   "display_name": "Python 3 (ipykernel)",
   "language": "python",
   "name": "python3"
  },
  "language_info": {
   "codemirror_mode": {
    "name": "ipython",
    "version": 3
   },
   "file_extension": ".py",
   "mimetype": "text/x-python",
   "name": "python",
   "nbconvert_exporter": "python",
   "pygments_lexer": "ipython3",
   "version": "3.11.4"
  }
 },
 "nbformat": 4,
 "nbformat_minor": 4
}
