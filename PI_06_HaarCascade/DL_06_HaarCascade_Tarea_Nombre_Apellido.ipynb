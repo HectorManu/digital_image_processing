{
 "cells": [
  {
   "cell_type": "markdown",
   "id": "ffd246ea",
   "metadata": {},
   "source": [
    "<!--Información del curso-->\n",
    "<img align=\"left\" style=\"padding-right:10px;\" src=\"figuras/banner_dl.png\">\n"
   ]
  },
  {
   "cell_type": "markdown",
   "id": "65aec997",
   "metadata": {},
   "source": [
    "<center><h1 style=\"font-size:2em;color:#2467C0\"> Tarea\n",
    " </h1></center>\n"
   ]
  },
  {
   "cell_type": "markdown",
   "id": "d7c747dc",
   "metadata": {},
   "source": [
    "<div class=\"alert alert-success\">\n",
    "   \n",
    "**Parte 1**\n",
    "    \n",
    "Utilizando 5 imágenes de películas o series (como el del ejemplo). Realizar la siguientes actividades\n",
    "    \n",
    "* Para cada una de las imágenes muestre en recuadros el rostro, ojos y sonrisas de las personas que ahí aparezcan\n",
    "\n",
    "    \n",
    "</div> "
   ]
  },
  {
   "cell_type": "code",
   "execution_count": null,
   "id": "6d77f18f",
   "metadata": {},
   "outputs": [],
   "source": []
  },
  {
   "cell_type": "markdown",
   "id": "648b510b",
   "metadata": {},
   "source": [
    "<div class=\"alert alert-success\">\n",
    "   \n",
    "**Parte 2**\n",
    "    \n",
    "Utilizando 5 imágenes de Google Street View muestre la deteccion de los altos. Evaluar cual de los dos archivos de deteccion funciona mejor :\n",
    "    \n",
    "    * stopsign_classifier.xml\n",
    "    * Stopsign_HAAR_19Stages.xml.\n",
    "\n",
    "    \n",
    "</div> \n",
    "\n",
    "<td><img src=\"figuras/altos.png\" align=\"middle\" style=\"width:850px;\"/></td>\n"
   ]
  },
  {
   "cell_type": "code",
   "execution_count": null,
   "id": "17c855d0",
   "metadata": {},
   "outputs": [],
   "source": []
  },
  {
   "cell_type": "markdown",
   "id": "26758b8e",
   "metadata": {},
   "source": [
    "<div class=\"alert alert-success\">\n",
    "   \n",
    "**Parte 3**\n",
    "    \n",
    "Crear una imagen que tenga el siguiente texto\n",
    "\n",
    "* Linea 1: Nombre y apellido\n",
    "* Linea 2: Carrera y semestre\n",
    "* Linea 3: Lugar de nacimiento\n",
    "\n",
    "Utilizar pytesseract para detectar el texto\n",
    "</div> \n",
    "\n"
   ]
  },
  {
   "cell_type": "code",
   "execution_count": null,
   "id": "c125deeb",
   "metadata": {},
   "outputs": [],
   "source": []
  }
 ],
 "metadata": {
  "kernelspec": {
   "display_name": "Python 3 (ipykernel)",
   "language": "python",
   "name": "python3"
  },
  "language_info": {
   "codemirror_mode": {
    "name": "ipython",
    "version": 3
   },
   "file_extension": ".py",
   "mimetype": "text/x-python",
   "name": "python",
   "nbconvert_exporter": "python",
   "pygments_lexer": "ipython3",
   "version": "3.10.7"
  }
 },
 "nbformat": 4,
 "nbformat_minor": 5
}
