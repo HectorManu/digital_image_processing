{
 "cells": [
  {
   "cell_type": "markdown",
   "metadata": {},
   "source": [
    "<!--Información del curso-->\n",
    "<img align=\"left\" style=\"padding-right:10px;\" src=\"figuras/banner_dl.png\">\n"
   ]
  },
  {
   "cell_type": "markdown",
   "metadata": {},
   "source": [
    "<br><br><center><h1 style=\"font-size:2em;color:#2467C0\"> Proyecto de OpenCV </h1></center>\n",
    "<br>\n",
    "<table>\n",
    "<col width=\"550\">\n",
    "<col width=\"450\">\n",
    "<tr>\n",
    "    \n",
    "    \n",
    "<td><img src=\"figuras/amarillo.png\" align=\"middle\" style=\"width:550px;\"/></td>\n",
    "<td>\n",
    "\n",
    "Hacer un efecto de selección de color amarillo en un video corto (aproximadamente 30 segundos).\n",
    "    \n",
    "    \n",
    "<br>\n",
    "</td>\n",
    "</tr>\n",
    "</table>"
   ]
  },
  {
   "cell_type": "markdown",
   "metadata": {},
   "source": [
    "# 0. Librerías básicas"
   ]
  },
  {
   "cell_type": "code",
   "execution_count": 38,
   "metadata": {},
   "outputs": [],
   "source": [
    "#Librerías básicas de esta notebook\n",
    "import matplotlib.pyplot as plt\n",
    "import numpy as np\n",
    "import cv2 as cv"
   ]
  },
  {
   "cell_type": "markdown",
   "metadata": {},
   "source": [
    "Instrucciones:\n",
    "* Hacer un efecto de selección de color amarillo en un video corto (aproximadamente 30 segundos).\n",
    "\n",
    "**Importante: Deberá subir todos sus archivos en un archivo .ZIP**"
   ]
  },
  {
   "cell_type": "code",
   "execution_count": 41,
   "metadata": {},
   "outputs": [],
   "source": [
    "def mascara(img):\n",
    "    \n",
    "    #Llevamos a cabo el cambio de espacio de color y definimos los rangos \n",
    "    img_hsv = cv.cvtColor(img, cv.COLOR_BGR2HSV)\n",
    "    low = np.array([20,103,147])\n",
    "    high = np.array([42,255,255])\n",
    "    \n",
    "    #Aplicamos la mascara de la region de color\n",
    "    masc_yellow = cv.inRange(img_hsv,low,high)\n",
    "    \n",
    "    img_GRAY = cv.cvtColor( img, cv.COLOR_BGR2GRAY)\n",
    "    \n",
    "    img_GRAY_resta=cv.subtract( img_GRAY, masc_yellow)\n",
    "    \n",
    "    img_GRAY_resta_rgb=cv.cvtColor(img_GRAY_resta, cv.COLOR_GRAY2RGB) \n",
    "    \n",
    "    img_ = cv.bitwise_and(img, img, mask=masc_yellow )\n",
    "    \n",
    "    img_final = cv.add(img_GRAY_resta_rgb, img_)\n",
    "    \n",
    "    return img_final\n",
    "\n",
    "def risize_with_binarization():\n",
    "    time.sleep(0.005)\n",
    "    img =frame.copy()\n",
    "    ratio=0.4\n",
    "    alto=  int( (img.shape[0])*ratio )\n",
    "    ancho= int( (img.shape[1])*ratio  )\n",
    "    img=cv.resize( img ,(ancho, alto), interpolation=cv.INTER_NEAREST)\n",
    "    img = mascara(img)\n",
    "    #img = binarizacion(img)\n",
    "    # cv.imshow(\"video original\", frame)\n",
    "\n",
    "    cv.imshow(\"video resize\", img)\n",
    "    #cv.imutils('capturar/imagen_'+str())\n",
    "    # cv.imshow(\"video original\", frame)  "
   ]
  },
  {
   "cell_type": "code",
   "execution_count": 42,
   "metadata": {},
   "outputs": [],
   "source": [
    "import time\n",
    "\n",
    "video = cv.VideoCapture(\"yellow.mp4\")\n",
    "while(video.isOpened()):\n",
    "    ret, frame = video.read()\n",
    "    #ret es una  variable booleana, true -> existe imagen , false -> No existe (final de video)\n",
    "    if ret:\n",
    "        risize_with_binarization()\n",
    "        \n",
    "        if cv.waitKey(1) & 0xFF == ord('q'):\n",
    "            break\n",
    "    else:\n",
    "        break\n",
    "video.release()\n",
    "cv.destroyAllWindows()"
   ]
  },
  {
   "cell_type": "code",
   "execution_count": null,
   "metadata": {},
   "outputs": [],
   "source": []
  }
 ],
 "metadata": {
  "kernelspec": {
   "display_name": "Python 3 (ipykernel)",
   "language": "python",
   "name": "python3"
  },
  "language_info": {
   "codemirror_mode": {
    "name": "ipython",
    "version": 3
   },
   "file_extension": ".py",
   "mimetype": "text/x-python",
   "name": "python",
   "nbconvert_exporter": "python",
   "pygments_lexer": "ipython3",
   "version": "3.11.4"
  }
 },
 "nbformat": 4,
 "nbformat_minor": 4
}
