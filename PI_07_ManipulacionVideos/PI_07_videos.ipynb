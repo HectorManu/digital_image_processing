{
 "cells": [
  {
   "cell_type": "markdown",
   "metadata": {},
   "source": [
    "<!--Información del curso-->\n",
    "<img align=\"left\" style=\"padding-right:10px;\" src=\"figuras/banner_dl.png\">\n"
   ]
  },
  {
   "cell_type": "markdown",
   "metadata": {},
   "source": [
    "<br><br><center><h1 style=\"font-size:2em;color:#2467C0\"> Manipulación de videos </h1></center>\n",
    "<br>\n",
    "<table>\n",
    "<col width=\"550\">\n",
    "<col width=\"450\">\n",
    "<tr>\n",
    "    \n",
    "    \n",
    "<td><img src=\"figuras/opencv_reading_mp4_video.png\" align=\"middle\" style=\"width:550px;\"/></td>\n",
    "<td>\n",
    "\n",
    "OpenCV(Open Source Computer Vision) es una biblioteca de visión por computadora que contiene varias funciones para realizar operaciones en imágenes o videos. La biblioteca OpenCV se puede utilizar para realizar múltiples operaciones en videos.\n",
    "    \n",
    "    \n",
    "<br>\n",
    "</td>\n",
    "</tr>\n",
    "</table>"
   ]
  },
  {
   "cell_type": "markdown",
   "metadata": {},
   "source": [
    "# 0. Librerías básicas"
   ]
  },
  {
   "cell_type": "code",
   "execution_count": 1,
   "metadata": {},
   "outputs": [],
   "source": [
    "#Librerías básicas de esta notebook\n",
    "import matplotlib.pyplot as plt\n",
    "import numpy as np\n",
    "import cv2 as cv\n"
   ]
  },
  {
   "cell_type": "markdown",
   "metadata": {},
   "source": [
    "# 1. Reproducir  el video"
   ]
  },
  {
   "cell_type": "code",
   "execution_count": 4,
   "metadata": {},
   "outputs": [],
   "source": [
    "video = cv.VideoCapture(\"videos/video_ejemplo.mp4\")\n",
    "while(video.isOpened()):\n",
    "    ret, frame = video.read()\n",
    "    #ret es una  variable booleana, true -> existe imagen , false -> No existe (final de video)\n",
    "    if ret:\n",
    "        cv.imshow(\"video original\", frame)  \n",
    "        \n",
    "        \n",
    "        if cv.waitKey(1) & 0xFF == ord('q'):\n",
    "            break\n",
    "    else:\n",
    "        break\n",
    "video.release()\n",
    "cv.destroyAllWindows()"
   ]
  },
  {
   "cell_type": "markdown",
   "metadata": {},
   "source": [
    "# 2. Cambiar el tamaño y tiempo de reproducción"
   ]
  },
  {
   "cell_type": "code",
   "execution_count": 32,
   "metadata": {},
   "outputs": [],
   "source": [
    "def binarizacion(img):\n",
    "    imagen_gray = cv.cvtColor(img, cv.COLOR_BGR2GRAY)\n",
    "    thr, img_thr = cv.threshold(imagen_gray, 100,255, cv.THRESH_BINARY)\n",
    "    filtro_mediana=cv.medianBlur(img_thr ,7)\n",
    "    img_binarizada = filtro_mediana\n",
    "    return img_binarizada\n",
    "\n",
    "def risize_with_binarization():\n",
    "    time.sleep(0.005)\n",
    "    img =frame.copy()\n",
    "    ratio=0.9\n",
    "    alto=  int( (img.shape[0])*ratio )\n",
    "    ancho= int( (img.shape[1])*ratio  )\n",
    "    img=cv.resize( img ,(ancho, alto), interpolation=cv.INTER_NEAREST )\n",
    "    img = binarizacion(img)\n",
    "    # cv.imshow(\"video original\", frame)\n",
    "\n",
    "    cv.imshow(\"video resize\", img)\n",
    "    #cv.imutils('capturar/imagen_'+str())\n",
    "    # cv.imshow(\"video original\", frame)  \n",
    "        "
   ]
  },
  {
   "cell_type": "code",
   "execution_count": null,
   "metadata": {},
   "outputs": [],
   "source": [
    "import time\n",
    "\n",
    "# video = cv.VideoCapture(\"videos/video_ejemplo.mp4\")\n",
    "video = cv.VideoCapture(0)\n",
    "while(video.isOpened()):\n",
    "    ret, frame = video.read()\n",
    "    #ret es una  variable booleana, true -> existe imagen , false -> No existe (final de video)\n",
    "    if ret:\n",
    "        risize_with_binarization()\n",
    "        \n",
    "        if cv.waitKey(1) & 0xFF == ord('q'):\n",
    "            break\n",
    "    else:\n",
    "        break\n",
    "video.release()\n",
    "cv.destroyAllWindows()\n"
   ]
  },
  {
   "cell_type": "markdown",
   "metadata": {},
   "source": [
    "# 3. Guardar los primeros N frames"
   ]
  },
  {
   "cell_type": "code",
   "execution_count": null,
   "metadata": {},
   "outputs": [],
   "source": [
    "\n"
   ]
  },
  {
   "cell_type": "markdown",
   "metadata": {},
   "source": [
    "# 4. Cambiar a escala de grises"
   ]
  },
  {
   "cell_type": "code",
   "execution_count": null,
   "metadata": {},
   "outputs": [],
   "source": [
    "#Definir la función \n"
   ]
  },
  {
   "cell_type": "code",
   "execution_count": null,
   "metadata": {},
   "outputs": [],
   "source": []
  },
  {
   "cell_type": "markdown",
   "metadata": {},
   "source": [
    "# 5. Video binarizado (blanco y negro)"
   ]
  },
  {
   "cell_type": "code",
   "execution_count": null,
   "metadata": {},
   "outputs": [],
   "source": [
    "#Definir la función de binarización\n"
   ]
  },
  {
   "cell_type": "code",
   "execution_count": null,
   "metadata": {},
   "outputs": [],
   "source": []
  },
  {
   "cell_type": "markdown",
   "metadata": {},
   "source": [
    "# 6. Video binarizado (blanco y negro) y con la mitad de tamaño"
   ]
  },
  {
   "cell_type": "code",
   "execution_count": null,
   "metadata": {},
   "outputs": [],
   "source": [
    "#Definir la función de binarización\n"
   ]
  },
  {
   "cell_type": "code",
   "execution_count": null,
   "metadata": {},
   "outputs": [],
   "source": []
  },
  {
   "cell_type": "code",
   "execution_count": null,
   "metadata": {},
   "outputs": [],
   "source": []
  }
 ],
 "metadata": {
  "kernelspec": {
   "display_name": "Python 3 (ipykernel)",
   "language": "python",
   "name": "python3"
  },
  "language_info": {
   "codemirror_mode": {
    "name": "ipython",
    "version": 3
   },
   "file_extension": ".py",
   "mimetype": "text/x-python",
   "name": "python",
   "nbconvert_exporter": "python",
   "pygments_lexer": "ipython3",
   "version": "3.11.4"
  }
 },
 "nbformat": 4,
 "nbformat_minor": 4
}
